{
  "nbformat": 4,
  "nbformat_minor": 0,
  "metadata": {
    "colab": {
      "provenance": [],
      "toc_visible": true,
      "authorship_tag": "ABX9TyPoAFQODEYghh9AaJ9KVZNJ",
      "include_colab_link": true
    },
    "kernelspec": {
      "name": "python3",
      "display_name": "Python 3"
    },
    "language_info": {
      "name": "python"
    }
  },
  "cells": [
    {
      "cell_type": "markdown",
      "metadata": {
        "id": "view-in-github",
        "colab_type": "text"
      },
      "source": [
        "<a href=\"https://colab.research.google.com/github/Saubha/Grain-size-analysis/blob/main/EX4_Numpy.ipynb\" target=\"_parent\"><img src=\"https://colab.research.google.com/assets/colab-badge.svg\" alt=\"Open In Colab\"/></a>"
      ]
    },
    {
      "cell_type": "markdown",
      "source": [
        "Experiment - 4\n",
        "\n",
        "Aim: To understand Python NumPy Module\n",
        "\n",
        "Objective: Practice code – Student will learn homogeneous multidimensional array, NumPy Random and function\n",
        "\n",
        "Input/Apparatus Used: Python computer program\n",
        "\n",
        "Procedure/Algorithm/Code:"
      ],
      "metadata": {
        "id": "v0UziXXHBIO_"
      }
    },
    {
      "cell_type": "markdown",
      "source": [
        "# NumPy\n",
        "NumPy is a Python library.\n",
        "\n",
        "NumPy is used for working with arrays.\n",
        "\n",
        "NumPy is short for \"Numerical Python\"."
      ],
      "metadata": {
        "id": "hpUW6QnTEDci"
      }
    },
    {
      "cell_type": "markdown",
      "source": [
        "Create a NumPy array:"
      ],
      "metadata": {
        "id": "Fb7tYmVHEaNk"
      }
    },
    {
      "cell_type": "code",
      "source": [
        "import numpy as np\n",
        "\n",
        "arr = np.array([1, 2, 3, 4, 5])\n",
        "\n",
        "print(arr)\n",
        "\n",
        "print(type(arr))"
      ],
      "metadata": {
        "colab": {
          "base_uri": "https://localhost:8080/"
        },
        "id": "wU8vJ2HREbVc",
        "outputId": "d574e57b-ef01-4864-c7a9-fc1d45eb15cc"
      },
      "execution_count": null,
      "outputs": [
        {
          "output_type": "stream",
          "name": "stdout",
          "text": [
            "[1 2 3 4 5]\n",
            "<class 'numpy.ndarray'>\n"
          ]
        }
      ]
    },
    {
      "cell_type": "markdown",
      "source": [
        "# What is NumPy?\n",
        "NumPy is a Python library used for working with arrays.\n",
        "\n",
        "It also has functions for working in domain of linear algebra, fourier transform, and matrices.\n",
        "\n",
        "NumPy was created in 2005 by Travis Oliphant. It is an open source project and you can use it freely.\n",
        "\n",
        "NumPy stands for Numerical Python."
      ],
      "metadata": {
        "id": "4H_xgwqYEqeQ"
      }
    },
    {
      "cell_type": "markdown",
      "source": [
        "Checking NumPy Version\n",
        "The version string is stored under __version__ attribute."
      ],
      "metadata": {
        "id": "m6nWd8NhFSXr"
      }
    },
    {
      "cell_type": "code",
      "source": [
        "print(np.__version__)"
      ],
      "metadata": {
        "colab": {
          "base_uri": "https://localhost:8080/"
        },
        "id": "bOREX8aSFVq0",
        "outputId": "48187168-51f8-4bbe-c3bd-b9e2f72696da"
      },
      "execution_count": null,
      "outputs": [
        {
          "output_type": "stream",
          "name": "stdout",
          "text": [
            "1.23.5\n"
          ]
        }
      ]
    },
    {
      "cell_type": "markdown",
      "source": [
        "#Create a NumPy ndarray Object\n",
        "NumPy is used to work with arrays. The array object in NumPy is called ndarray.\n",
        "\n",
        "We can create a NumPy ndarray object by using the array() function."
      ],
      "metadata": {
        "id": "gEz37X2EFfpo"
      }
    },
    {
      "cell_type": "code",
      "source": [
        "import numpy as np\n",
        "\n",
        "arr = np.array([1, 2, 3, 4, 5])\n",
        "\n",
        "print(arr)\n",
        "\n",
        "print(type(arr))"
      ],
      "metadata": {
        "colab": {
          "base_uri": "https://localhost:8080/"
        },
        "id": "Rl9E2ol8FiE3",
        "outputId": "7a5c090d-9ba0-4c87-b866-245607ff921d"
      },
      "execution_count": null,
      "outputs": [
        {
          "output_type": "stream",
          "name": "stdout",
          "text": [
            "[1 2 3 4 5]\n",
            "<class 'numpy.ndarray'>\n"
          ]
        }
      ]
    },
    {
      "cell_type": "markdown",
      "source": [
        "Use a tuple to create a NumPy array:"
      ],
      "metadata": {
        "id": "Vrbl34_DFxXw"
      }
    },
    {
      "cell_type": "code",
      "source": [
        "arr = np.array((1, 2, 3, 4, 5))\n",
        "\n",
        "print(arr)"
      ],
      "metadata": {
        "colab": {
          "base_uri": "https://localhost:8080/"
        },
        "id": "Kvn7OE1kFyC-",
        "outputId": "9a3ce136-b6fb-45f9-d9dd-1f1312ad98f5"
      },
      "execution_count": null,
      "outputs": [
        {
          "output_type": "stream",
          "name": "stdout",
          "text": [
            "[1 2 3 4 5]\n"
          ]
        }
      ]
    },
    {
      "cell_type": "markdown",
      "source": [
        "Create a 0-D array with value 42"
      ],
      "metadata": {
        "id": "x0uSyWCSF9gb"
      }
    },
    {
      "cell_type": "code",
      "source": [
        "arr = np.array(42)\n",
        "\n",
        "print(arr)"
      ],
      "metadata": {
        "colab": {
          "base_uri": "https://localhost:8080/"
        },
        "id": "O-fNXR5FGANL",
        "outputId": "1eb354b2-0280-48c0-8f19-ae7af8cdd0ab"
      },
      "execution_count": null,
      "outputs": [
        {
          "output_type": "stream",
          "name": "stdout",
          "text": [
            "42\n"
          ]
        }
      ]
    },
    {
      "cell_type": "markdown",
      "source": [
        "Create a 1-D array containing the values 1,2,3,4,5:\n",
        "arr = np.array([1, 2, 3, 4, 5])\n",
        "\n",
        "print(arr)"
      ],
      "metadata": {
        "id": "tMbgFf9OGJpT"
      }
    },
    {
      "cell_type": "code",
      "source": [
        "arr = np.array([1, 2, 3, 4, 5])\n",
        "\n",
        "print(arr)"
      ],
      "metadata": {
        "colab": {
          "base_uri": "https://localhost:8080/"
        },
        "id": "F50LwRDJGPKs",
        "outputId": "deb0e62d-e3db-44c4-8a42-1509ff064b67"
      },
      "execution_count": null,
      "outputs": [
        {
          "output_type": "stream",
          "name": "stdout",
          "text": [
            "[1 2 3 4 5]\n"
          ]
        }
      ]
    },
    {
      "cell_type": "markdown",
      "source": [
        "Create a 2-D array containing two arrays with the values 1,2,3 and 4,5,6:"
      ],
      "metadata": {
        "id": "pCpOCcteGUcq"
      }
    },
    {
      "cell_type": "code",
      "source": [
        "arr = np.array([[1, 2, 3], [4, 5, 6]])\n",
        "\n",
        "print(arr)"
      ],
      "metadata": {
        "colab": {
          "base_uri": "https://localhost:8080/"
        },
        "id": "dXXRWgjQGWtx",
        "outputId": "d22f16e9-0a28-445a-c533-9d5e602eee0c"
      },
      "execution_count": null,
      "outputs": [
        {
          "output_type": "stream",
          "name": "stdout",
          "text": [
            "[[1 2 3]\n",
            " [4 5 6]]\n"
          ]
        }
      ]
    },
    {
      "cell_type": "markdown",
      "source": [
        "Check how many dimensions the arrays have:\n"
      ],
      "metadata": {
        "id": "LHavwuX-Gd8i"
      }
    },
    {
      "cell_type": "code",
      "source": [
        "a = np.array(42)\n",
        "b = np.array([1, 2, 3, 4, 5])\n",
        "c = np.array([[1, 2, 3], [4, 5, 6]])\n",
        "d = np.array([[[1, 2, 3], [4, 5, 6]], [[1, 2, 3], [4, 5, 6]]])\n",
        "\n",
        "print(a.ndim)\n",
        "print(b.ndim)\n",
        "print(c.ndim)\n",
        "print(d.ndim)"
      ],
      "metadata": {
        "colab": {
          "base_uri": "https://localhost:8080/"
        },
        "id": "IMRWaIfuGkKo",
        "outputId": "55f7b334-14be-45c5-db95-9f5d1f749718"
      },
      "execution_count": null,
      "outputs": [
        {
          "output_type": "stream",
          "name": "stdout",
          "text": [
            "0\n",
            "1\n",
            "2\n",
            "3\n"
          ]
        }
      ]
    },
    {
      "cell_type": "code",
      "source": [
        "# Monthly avg precip for Jan through Mar in Boulder, CO\n",
        "avg_monthly_precip = np.array([0.70, 0.75, 1.85])\n",
        "\n",
        "print(avg_monthly_precip)"
      ],
      "metadata": {
        "colab": {
          "base_uri": "https://localhost:8080/"
        },
        "id": "yYN1MVf9G0P3",
        "outputId": "3086421c-99d7-497b-9376-1d27275779cf"
      },
      "execution_count": null,
      "outputs": [
        {
          "output_type": "stream",
          "name": "stdout",
          "text": [
            "[0.7  0.75 1.85]\n"
          ]
        }
      ]
    },
    {
      "cell_type": "code",
      "source": [
        "# Monthly precip for Jan through Mar in 2002 and 2013\n",
        "precip_2002_2013 = np.array([\n",
        "    [1.07, 0.44, 1.50],\n",
        "    [0.27, 1.13, 1.72]\n",
        "])\n",
        "\n",
        "print(precip_2002_2013)"
      ],
      "metadata": {
        "colab": {
          "base_uri": "https://localhost:8080/"
        },
        "id": "5-TyEj83HCgE",
        "outputId": "a38eaff7-4ad5-48da-ac45-0a14f2f21e54"
      },
      "execution_count": null,
      "outputs": [
        {
          "output_type": "stream",
          "name": "stdout",
          "text": [
            "[[1.07 0.44 1.5 ]\n",
            " [0.27 1.13 1.72]]\n"
          ]
        }
      ]
    },
    {
      "cell_type": "markdown",
      "source": [
        "Find log at base 2 of all elements of following array:"
      ],
      "metadata": {
        "id": "upcJw_UwYW67"
      }
    },
    {
      "cell_type": "code",
      "source": [
        "arr = np.arange(1, 10)\n",
        "\n",
        "print(np.log2(arr))"
      ],
      "metadata": {
        "colab": {
          "base_uri": "https://localhost:8080/"
        },
        "id": "tj5BdjqOYU4Q",
        "outputId": "9bd05174-bf6a-43f8-b8ec-c23f395b82ee"
      },
      "execution_count": null,
      "outputs": [
        {
          "output_type": "stream",
          "name": "stdout",
          "text": [
            "[0.         1.         1.5849625  2.         2.32192809 2.5849625\n",
            " 2.80735492 3.         3.169925  ]\n"
          ]
        }
      ]
    },
    {
      "cell_type": "markdown",
      "source": [
        "##NumPy Array Indexing\n",
        "##Access Array Elements\n",
        "Array indexing is the same as accessing an array element.\n",
        "\n",
        "You can access an array element by referring to its index number.\n",
        "\n",
        "The indexes in NumPy arrays start with 0, meaning that the first element has index 0, and the second has index 1 etc.\n"
      ],
      "metadata": {
        "id": "Eni_OZLV-DLk"
      }
    },
    {
      "cell_type": "code",
      "source": [
        "#Get the first element from the following array:\n",
        "\n",
        "import numpy as np\n",
        "\n",
        "arr = np.array([1, 2, 3, 4])\n",
        "\n",
        "print(arr[0])"
      ],
      "metadata": {
        "colab": {
          "base_uri": "https://localhost:8080/"
        },
        "id": "HRSrZQUY-K3s",
        "outputId": "ce1866e5-75d2-40d8-e6a4-4cac890671d6"
      },
      "execution_count": 1,
      "outputs": [
        {
          "output_type": "stream",
          "name": "stdout",
          "text": [
            "1\n"
          ]
        }
      ]
    },
    {
      "cell_type": "code",
      "source": [
        "#Get the second element from the following array.\n",
        "\n",
        "import numpy as np\n",
        "\n",
        "arr = np.array([1, 2, 3, 4])\n",
        "\n",
        "print(arr[1])"
      ],
      "metadata": {
        "colab": {
          "base_uri": "https://localhost:8080/"
        },
        "id": "q2oBtgPP-RwU",
        "outputId": "c49180e0-d952-485e-a9b8-93000a8ed51e"
      },
      "execution_count": 2,
      "outputs": [
        {
          "output_type": "stream",
          "name": "stdout",
          "text": [
            "2\n"
          ]
        }
      ]
    },
    {
      "cell_type": "code",
      "source": [
        "#Get third and fourth elements from the following array and add them.\n",
        "\n",
        "import numpy as np\n",
        "\n",
        "arr = np.array([1, 2, 3, 4])\n",
        "\n",
        "print(arr[2] + arr[3])"
      ],
      "metadata": {
        "colab": {
          "base_uri": "https://localhost:8080/"
        },
        "id": "gMxg5aHr-V18",
        "outputId": "c379b0ee-e406-4595-8980-7d8ff508b755"
      },
      "execution_count": 3,
      "outputs": [
        {
          "output_type": "stream",
          "name": "stdout",
          "text": [
            "7\n"
          ]
        }
      ]
    },
    {
      "cell_type": "markdown",
      "source": [
        "##Access 2-D Arrays\n",
        "To access elements from 2-D arrays we can use comma separated integers representing the dimension and the index of the element.\n",
        "\n",
        "Think of 2-D arrays like a table with rows and columns, where the dimension represents the row and the index represents the column."
      ],
      "metadata": {
        "id": "RAwvlxMM-Z-q"
      }
    },
    {
      "cell_type": "code",
      "source": [
        "#Access the element on the first row, second column:\n",
        "\n",
        "import numpy as np\n",
        "\n",
        "arr = np.array([[1,2,3,4,5], [6,7,8,9,10]])\n",
        "\n",
        "print('2nd element on 1st row: ', arr[0, 1])"
      ],
      "metadata": {
        "colab": {
          "base_uri": "https://localhost:8080/"
        },
        "id": "qkT2li65-cnL",
        "outputId": "191feabe-6588-47e5-e1fc-acd6cf232c0a"
      },
      "execution_count": 5,
      "outputs": [
        {
          "output_type": "stream",
          "name": "stdout",
          "text": [
            "2nd element on 1st row:  2\n"
          ]
        }
      ]
    },
    {
      "cell_type": "code",
      "source": [
        "#Access the element on the 2nd row, 5th column:\n",
        "\n",
        "import numpy as np\n",
        "\n",
        "arr = np.array([[1,2,3,4,5], [6,7,8,9,10]])\n",
        "\n",
        "print('5th element on 2nd row: ', arr[1, 4])"
      ],
      "metadata": {
        "colab": {
          "base_uri": "https://localhost:8080/"
        },
        "id": "HQzo1Xqt-ifH",
        "outputId": "cf753187-0cdc-4c07-ae90-b5308b955f9d"
      },
      "execution_count": 6,
      "outputs": [
        {
          "output_type": "stream",
          "name": "stdout",
          "text": [
            "5th element on 2nd row:  10\n"
          ]
        }
      ]
    },
    {
      "cell_type": "markdown",
      "source": [
        "##Access 3-D Arrays\n",
        "To access elements from 3-D arrays we can use comma separated integers representing the dimensions and the index of the element."
      ],
      "metadata": {
        "id": "YuTq6C6T-nGT"
      }
    },
    {
      "cell_type": "code",
      "source": [
        "#Access the third element of the second array of the first array:\n",
        "\n",
        "import numpy as np\n",
        "\n",
        "arr = np.array([[[1, 2, 3], [4, 5, 6]], [[7, 8, 9], [10, 11, 12]]])\n",
        "\n",
        "print(arr[0, 1, 2])"
      ],
      "metadata": {
        "colab": {
          "base_uri": "https://localhost:8080/"
        },
        "id": "fPftJ1ts-pbd",
        "outputId": "18e82a2f-03ef-4990-b4f9-6dafdc6ff87d"
      },
      "execution_count": 7,
      "outputs": [
        {
          "output_type": "stream",
          "name": "stdout",
          "text": [
            "6\n"
          ]
        }
      ]
    },
    {
      "cell_type": "code",
      "source": [
        "#Print the last element from the 2nd dim:\n",
        "\n",
        "import numpy as np\n",
        "\n",
        "arr = np.array([[1,2,3,4,5], [6,7,8,9,10]])\n",
        "\n",
        "print('Last element from 2nd dim: ', arr[1, -1])"
      ],
      "metadata": {
        "colab": {
          "base_uri": "https://localhost:8080/"
        },
        "id": "3Srq7mNU-wgM",
        "outputId": "997dd180-35a4-4753-edb6-aff5cef2a9c7"
      },
      "execution_count": 8,
      "outputs": [
        {
          "output_type": "stream",
          "name": "stdout",
          "text": [
            "Last element from 2nd dim:  10\n"
          ]
        }
      ]
    },
    {
      "cell_type": "code",
      "source": [
        "#Slice elements from index 1 to index 5 from the following array:\n",
        "\n",
        "import numpy as np\n",
        "\n",
        "arr = np.array([1, 2, 3, 4, 5, 6, 7])\n",
        "\n",
        "print(arr[1:5])"
      ],
      "metadata": {
        "colab": {
          "base_uri": "https://localhost:8080/"
        },
        "id": "s1nHphgv-8Gi",
        "outputId": "7b65c485-8e53-4b72-e16a-b43c32f4976b"
      },
      "execution_count": 9,
      "outputs": [
        {
          "output_type": "stream",
          "name": "stdout",
          "text": [
            "[2 3 4 5]\n"
          ]
        }
      ]
    },
    {
      "cell_type": "code",
      "source": [
        "#Slice elements from index 4 to the end of the array:\n",
        "\n",
        "import numpy as np\n",
        "\n",
        "arr = np.array([1, 2, 3, 4, 5, 6, 7])\n",
        "\n",
        "print(arr[4:])"
      ],
      "metadata": {
        "colab": {
          "base_uri": "https://localhost:8080/"
        },
        "id": "2brf-XsO_BAO",
        "outputId": "b8aaeec1-963d-480c-d088-53377bf93065"
      },
      "execution_count": 10,
      "outputs": [
        {
          "output_type": "stream",
          "name": "stdout",
          "text": [
            "[5 6 7]\n"
          ]
        }
      ]
    },
    {
      "cell_type": "code",
      "source": [
        "#Slice elements from the beginning to index 4 (not included):\n",
        "\n",
        "import numpy as np\n",
        "\n",
        "arr = np.array([1, 2, 3, 4, 5, 6, 7])\n",
        "\n",
        "print(arr[:4])"
      ],
      "metadata": {
        "colab": {
          "base_uri": "https://localhost:8080/"
        },
        "id": "NG6GHtuD_Eap",
        "outputId": "4fd905d5-b8a4-40a9-e777-83aba07537d3"
      },
      "execution_count": 11,
      "outputs": [
        {
          "output_type": "stream",
          "name": "stdout",
          "text": [
            "[1 2 3 4]\n"
          ]
        }
      ]
    },
    {
      "cell_type": "code",
      "source": [
        "#Slice from the index 3 from the end to index 1 from the end:\n",
        "\n",
        "import numpy as np\n",
        "\n",
        "arr = np.array([1, 2, 3, 4, 5, 6, 7])\n",
        "\n",
        "print(arr[-3:-1])"
      ],
      "metadata": {
        "colab": {
          "base_uri": "https://localhost:8080/"
        },
        "id": "tgQr-dMB_IEx",
        "outputId": "22deeaf3-4783-4fc8-8aea-a6c3e4d3b98f"
      },
      "execution_count": 12,
      "outputs": [
        {
          "output_type": "stream",
          "name": "stdout",
          "text": [
            "[5 6]\n"
          ]
        }
      ]
    },
    {
      "cell_type": "code",
      "source": [
        "#Return every other element from index 1 to index 5:\n",
        "\n",
        "import numpy as np\n",
        "\n",
        "arr = np.array([1, 2, 3, 4, 5, 6, 7])\n",
        "\n",
        "print(arr[1:5:2])"
      ],
      "metadata": {
        "colab": {
          "base_uri": "https://localhost:8080/"
        },
        "id": "RaRfzkPH_MMA",
        "outputId": "5b60e1cc-2601-4ab0-88c9-c027bcb559c6"
      },
      "execution_count": 13,
      "outputs": [
        {
          "output_type": "stream",
          "name": "stdout",
          "text": [
            "[2 4]\n"
          ]
        }
      ]
    },
    {
      "cell_type": "code",
      "source": [
        "#Draw out a sample for chi squared distribution with degree of freedom 2 with size 2x3:\n",
        "\n",
        "from numpy import random\n",
        "\n",
        "x = random.chisquare(df=2, size=(2, 3))\n",
        "\n",
        "print(x)"
      ],
      "metadata": {
        "colab": {
          "base_uri": "https://localhost:8080/"
        },
        "id": "9A6VkPZH_WWR",
        "outputId": "c11c233d-40af-43f3-bae0-c863c5c55342"
      },
      "execution_count": 14,
      "outputs": [
        {
          "output_type": "stream",
          "name": "stdout",
          "text": [
            "[[0.65193541 0.46890423 1.34622994]\n",
            " [3.23634667 1.4079469  0.99571527]]\n"
          ]
        }
      ]
    },
    {
      "cell_type": "code",
      "source": [
        "#Visualization of Chi Square Distribution\n",
        "from numpy import random\n",
        "import matplotlib.pyplot as plt\n",
        "import seaborn as sns\n",
        "\n",
        "sns.distplot(random.chisquare(df=1, size=1000), hist=False)\n",
        "\n",
        "plt.show()"
      ],
      "metadata": {
        "colab": {
          "base_uri": "https://localhost:8080/",
          "height": 621
        },
        "id": "TAQ9azeE_bqC",
        "outputId": "9bfb2831-601b-4b81-b666-d15b8fb00464"
      },
      "execution_count": 15,
      "outputs": [
        {
          "output_type": "stream",
          "name": "stderr",
          "text": [
            "<ipython-input-15-72606a654a0b>:6: UserWarning: \n",
            "\n",
            "`distplot` is a deprecated function and will be removed in seaborn v0.14.0.\n",
            "\n",
            "Please adapt your code to use either `displot` (a figure-level function with\n",
            "similar flexibility) or `kdeplot` (an axes-level function for kernel density plots).\n",
            "\n",
            "For a guide to updating your code to use the new functions, please see\n",
            "https://gist.github.com/mwaskom/de44147ed2974457ad6372750bbe5751\n",
            "\n",
            "  sns.distplot(random.chisquare(df=1, size=1000), hist=False)\n"
          ]
        },
        {
          "output_type": "display_data",
          "data": {
            "text/plain": [
              "<Figure size 640x480 with 1 Axes>"
            ],
            "image/png": "[encoded data removed]"
          },
          "metadata": {}
        }
      ]
    },
    {
      "cell_type": "code",
      "source": [
        "# Draw out a sample for rayleigh distribution with scale of 2 with size 2x3:\n",
        "\n",
        "from numpy import random\n",
        "\n",
        "x = random.rayleigh(scale=2, size=(2, 3))\n",
        "\n",
        "print(x)"
      ],
      "metadata": {
        "colab": {
          "base_uri": "https://localhost:8080/"
        },
        "id": "aeCZ6vcu_mZZ",
        "outputId": "b5d7c592-19e2-4746-9b18-860b89c261d1"
      },
      "execution_count": 16,
      "outputs": [
        {
          "output_type": "stream",
          "name": "stdout",
          "text": [
            "[[1.96131373 1.15315044 2.69715063]\n",
            " [4.5078003  1.85159435 2.64286061]]\n"
          ]
        }
      ]
    },
    {
      "cell_type": "code",
      "source": [
        "# Visualization of Rayleigh Distribution\n",
        "\n",
        "from numpy import random\n",
        "import matplotlib.pyplot as plt\n",
        "import seaborn as sns\n",
        "\n",
        "sns.distplot(random.rayleigh(size=1000), hist=False)\n",
        "\n",
        "plt.show()"
      ],
      "metadata": {
        "colab": {
          "base_uri": "https://localhost:8080/",
          "height": 621
        },
        "id": "hXyAsH8B_rbD",
        "outputId": "7a60181e-f211-4574-8226-e498bfbe2115"
      },
      "execution_count": 17,
      "outputs": [
        {
          "output_type": "stream",
          "name": "stderr",
          "text": [
            "<ipython-input-17-d7989c4c38b4>:7: UserWarning: \n",
            "\n",
            "`distplot` is a deprecated function and will be removed in seaborn v0.14.0.\n",
            "\n",
            "Please adapt your code to use either `displot` (a figure-level function with\n",
            "similar flexibility) or `kdeplot` (an axes-level function for kernel density plots).\n",
            "\n",
            "For a guide to updating your code to use the new functions, please see\n",
            "https://gist.github.com/mwaskom/de44147ed2974457ad6372750bbe5751\n",
            "\n",
            "  sns.distplot(random.rayleigh(size=1000), hist=False)\n"
          ]
        },
        {
          "output_type": "display_data",
          "data": {
            "text/plain": [
              "<Figure size 640x480 with 1 Axes>"
            ],
            "image/png": "[encoded data removed]"
          },
          "metadata": {}
        }
      ]
    },
    {
      "cell_type": "markdown",
      "source": [
        "Plotting a Distplot"
      ],
      "metadata": {
        "id": "5RnDGX5hALYq"
      }
    },
    {
      "cell_type": "code",
      "source": [
        "import matplotlib.pyplot as plt\n",
        "import seaborn as sns\n",
        "\n",
        "sns.distplot([0, 1, 2, 3, 4, 5])\n",
        "\n",
        "plt.show()"
      ],
      "metadata": {
        "colab": {
          "base_uri": "https://localhost:8080/",
          "height": 621
        },
        "id": "zfmyl9MDAAgO",
        "outputId": "a312c6e1-30a5-42cc-cbf4-5406ad56882e"
      },
      "execution_count": 18,
      "outputs": [
        {
          "output_type": "stream",
          "name": "stderr",
          "text": [
            "<ipython-input-18-f3b28c97675e>:4: UserWarning: \n",
            "\n",
            "`distplot` is a deprecated function and will be removed in seaborn v0.14.0.\n",
            "\n",
            "Please adapt your code to use either `displot` (a figure-level function with\n",
            "similar flexibility) or `histplot` (an axes-level function for histograms).\n",
            "\n",
            "For a guide to updating your code to use the new functions, please see\n",
            "https://gist.github.com/mwaskom/de44147ed2974457ad6372750bbe5751\n",
            "\n",
            "  sns.distplot([0, 1, 2, 3, 4, 5])\n"
          ]
        },
        {
          "output_type": "display_data",
          "data": {
            "text/plain": [
              "<Figure size 640x480 with 1 Axes>"
            ],
            "image/png": "[encoded data removed]"
          },
          "metadata": {}
        }
      ]
    },
    {
      "cell_type": "markdown",
      "source": [
        "Plotting a Distplot Without the Histogram"
      ],
      "metadata": {
        "id": "YwoHidk-AEYw"
      }
    },
    {
      "cell_type": "code",
      "source": [
        "import matplotlib.pyplot as plt\n",
        "import seaborn as sns\n",
        "\n",
        "sns.distplot([0, 1, 2, 3, 4, 5], hist=False)\n",
        "\n",
        "plt.show()"
      ],
      "metadata": {
        "colab": {
          "base_uri": "https://localhost:8080/",
          "height": 621
        },
        "id": "G2APJQbEAFJk",
        "outputId": "6aa4ce3a-46b9-426d-f9f9-42ab75b21e2a"
      },
      "execution_count": 19,
      "outputs": [
        {
          "output_type": "stream",
          "name": "stderr",
          "text": [
            "<ipython-input-19-4979f8315730>:4: UserWarning: \n",
            "\n",
            "`distplot` is a deprecated function and will be removed in seaborn v0.14.0.\n",
            "\n",
            "Please adapt your code to use either `displot` (a figure-level function with\n",
            "similar flexibility) or `kdeplot` (an axes-level function for kernel density plots).\n",
            "\n",
            "For a guide to updating your code to use the new functions, please see\n",
            "https://gist.github.com/mwaskom/de44147ed2974457ad6372750bbe5751\n",
            "\n",
            "  sns.distplot([0, 1, 2, 3, 4, 5], hist=False)\n"
          ]
        },
        {
          "output_type": "display_data",
          "data": {
            "text/plain": [
              "<Figure size 640x480 with 1 Axes>"
            ],
            "image/png": "[encoded data removed]"
          },
          "metadata": {}
        }
      ]
    },
    {
      "cell_type": "markdown",
      "source": [
        "##Pareto Distribution"
      ],
      "metadata": {
        "id": "7QvM6xeJAYEv"
      }
    },
    {
      "cell_type": "code",
      "source": [
        "#Draw out a sample for pareto distribution with shape of 2 with size 2x3:\n",
        "\n",
        "from numpy import random\n",
        "\n",
        "x = random.pareto(a=2, size=(2, 3))\n",
        "\n",
        "print(x)"
      ],
      "metadata": {
        "colab": {
          "base_uri": "https://localhost:8080/"
        },
        "id": "QAN0hcCRAd3y",
        "outputId": "01486db5-e766-468a-e3e0-38e200bb3666"
      },
      "execution_count": 20,
      "outputs": [
        {
          "output_type": "stream",
          "name": "stdout",
          "text": [
            "[[0.01256822 0.15675083 0.1950362 ]\n",
            " [0.44874742 0.00631018 0.39857409]]\n"
          ]
        }
      ]
    },
    {
      "cell_type": "markdown",
      "source": [
        "Visualization of Pareto Distribution"
      ],
      "metadata": {
        "id": "l_E7uT-EAhwp"
      }
    },
    {
      "cell_type": "code",
      "source": [
        "from numpy import random\n",
        "import matplotlib.pyplot as plt\n",
        "import seaborn as sns\n",
        "\n",
        "sns.distplot(random.pareto(a=2, size=1000), kde=False)\n",
        "\n",
        "plt.show()"
      ],
      "metadata": {
        "colab": {
          "base_uri": "https://localhost:8080/",
          "height": 621
        },
        "id": "V2y7jgd3AiRK",
        "outputId": "a5fbe70b-c5fd-46b5-f914-0f922b6dab87"
      },
      "execution_count": 21,
      "outputs": [
        {
          "output_type": "stream",
          "name": "stderr",
          "text": [
            "<ipython-input-21-c0a6bfa02944>:5: UserWarning: \n",
            "\n",
            "`distplot` is a deprecated function and will be removed in seaborn v0.14.0.\n",
            "\n",
            "Please adapt your code to use either `displot` (a figure-level function with\n",
            "similar flexibility) or `histplot` (an axes-level function for histograms).\n",
            "\n",
            "For a guide to updating your code to use the new functions, please see\n",
            "https://gist.github.com/mwaskom/de44147ed2974457ad6372750bbe5751\n",
            "\n",
            "  sns.distplot(random.pareto(a=2, size=1000), kde=False)\n"
          ]
        },
        {
          "output_type": "display_data",
          "data": {
            "text/plain": [
              "<Figure size 640x480 with 1 Axes>"
            ],
            "image/png": "[encoded data removed]"
          },
          "metadata": {}
        }
      ]
    },
    {
      "cell_type": "markdown",
      "source": [
        "##Zipf Distribution\n",
        "Zipf distributions are used to sample data based on zipf's law."
      ],
      "metadata": {
        "id": "cO4YjaHIArSg"
      }
    },
    {
      "cell_type": "code",
      "source": [
        "#Draw out a sample for zipf distribution with distribution parameter 2 with size 2x3:\n",
        "\n",
        "from numpy import random\n",
        "\n",
        "x = random.zipf(a=2, size=(2, 3))\n",
        "\n",
        "print(x)"
      ],
      "metadata": {
        "colab": {
          "base_uri": "https://localhost:8080/"
        },
        "id": "l_aEq-6YAuz0",
        "outputId": "bfd6fdf7-6aff-456c-9f46-0bc8e13fcf0f"
      },
      "execution_count": 22,
      "outputs": [
        {
          "output_type": "stream",
          "name": "stdout",
          "text": [
            "[[  1   1 194]\n",
            " [107  11   1]]\n"
          ]
        }
      ]
    },
    {
      "cell_type": "markdown",
      "source": [
        "##Visualization of Zipf Distribution\n",
        "Sample 1000 points but plotting only ones with value < 10 for more meaningful chart."
      ],
      "metadata": {
        "id": "D5lP0ELcA1e_"
      }
    },
    {
      "cell_type": "code",
      "source": [
        "from numpy import random\n",
        "import matplotlib.pyplot as plt\n",
        "import seaborn as sns\n",
        "\n",
        "x = random.zipf(a=2, size=1000)\n",
        "sns.distplot(x[x<10], kde=False)\n",
        "\n",
        "plt.show()"
      ],
      "metadata": {
        "colab": {
          "base_uri": "https://localhost:8080/",
          "height": 621
        },
        "id": "E3NLfHOJA261",
        "outputId": "101b585b-6f68-4d9e-d662-88fe90a72526"
      },
      "execution_count": 23,
      "outputs": [
        {
          "output_type": "stream",
          "name": "stderr",
          "text": [
            "<ipython-input-23-e9873b199544>:6: UserWarning: \n",
            "\n",
            "`distplot` is a deprecated function and will be removed in seaborn v0.14.0.\n",
            "\n",
            "Please adapt your code to use either `displot` (a figure-level function with\n",
            "similar flexibility) or `histplot` (an axes-level function for histograms).\n",
            "\n",
            "For a guide to updating your code to use the new functions, please see\n",
            "https://gist.github.com/mwaskom/de44147ed2974457ad6372750bbe5751\n",
            "\n",
            "  sns.distplot(x[x<10], kde=False)\n"
          ]
        },
        {
          "output_type": "display_data",
          "data": {
            "text/plain": [
              "<Figure size 640x480 with 1 Axes>"
            ],
            "image/png": "[encoded data removed]"
          },
          "metadata": {}
        }
      ]
    },
    {
      "cell_type": "markdown",
      "source": [],
      "metadata": {
        "id": "4B9e39f2BF2H"
      }
    }
  ]
}