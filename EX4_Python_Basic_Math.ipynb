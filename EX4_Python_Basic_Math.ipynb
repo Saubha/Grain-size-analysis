{
  "nbformat": 4,
  "nbformat_minor": 0,
  "metadata": {
    "colab": {
      "provenance": [],
      "authorship_tag": "ABX9TyNRdR6gMxVU0YFVNHGICasO",
      "include_colab_link": true
    },
    "kernelspec": {
      "name": "python3",
      "display_name": "Python 3"
    },
    "language_info": {
      "name": "python"
    }
  },
  "cells": [
    {
      "cell_type": "markdown",
      "metadata": {
        "id": "view-in-github",
        "colab_type": "text"
      },
      "source": [
        "<a href=\"https://colab.research.google.com/github/Saubha/Grain-size-analysis/blob/main/EX4_Python_Basic_Math.ipynb\" target=\"_parent\"><img src=\"https://colab.research.google.com/assets/colab-badge.svg\" alt=\"Open In Colab\"/></a>"
      ]
    },
    {
      "cell_type": "markdown",
      "source": [
        "Experiment - 4\n",
        "Aim: To understand Python Operator, Math, If Else and While Loops\n",
        "\n",
        "Objective: Practice code – Student will learn Python Operator, Math, If Else and While Loops\n",
        "\n",
        "\n",
        "Input/Apparatus Used: Python computer program\n",
        "\n",
        "Procedure/Algorithm/Code:"
      ],
      "metadata": {
        "id": "VRRpNZndewGP"
      }
    },
    {
      "cell_type": "markdown",
      "source": [
        "Python Operators\n",
        "Operators are used to perform operations on variables and values.\n",
        "\n",
        "In the example below, we use the + operator to add together two values:"
      ],
      "metadata": {
        "id": "zz6TKw7CcXda"
      }
    },
    {
      "cell_type": "code",
      "source": [
        "print(10 + 5)"
      ],
      "metadata": {
        "colab": {
          "base_uri": "https://localhost:8080/"
        },
        "id": "rnrc-gFDcYLp",
        "outputId": "0c4f87b8-e245-4b15-f13f-2acf48325bff"
      },
      "execution_count": null,
      "outputs": [
        {
          "output_type": "stream",
          "name": "stdout",
          "text": [
            "15\n"
          ]
        }
      ]
    },
    {
      "cell_type": "markdown",
      "source": [
        "Python divides the operators in the following groups:\n",
        "\n",
        "* Arithmetic operators\n",
        "* Assignment operators\n",
        "* Comparison operators\n",
        "* Logical operators\n",
        "* Identity operators\n",
        "* Membership operators\n",
        "* Bitwise operators\n",
        "\n",
        "\n",
        "\n"
      ],
      "metadata": {
        "id": "juW0e-tscht4"
      }
    },
    {
      "cell_type": "markdown",
      "source": [
        "### Python Arithmetic Operators\n",
        "Arithmetic operators are used with numeric values to perform common mathematical operations:\n",
        "\n",
        "\n",
        "Operator | Name | Example\n",
        "--- | --- | ---\n",
        "+ | Addition | X+Y\n",
        "- | Substraction | X-Y\n",
        "* | Multiplication | X*Y\n",
        "/ | Division | X/Y\n",
        "% | Modulus | X%Y\n",
        "** | Exponentiation | X**Y\n",
        "// | Floor Division | X//Y\n",
        "\n",
        "\n"
      ],
      "metadata": {
        "id": "SA-wAeCWczJe"
      }
    },
    {
      "cell_type": "code",
      "source": [
        "x = 5\n",
        "y = 3\n",
        "\n",
        "print(x + y)"
      ],
      "metadata": {
        "colab": {
          "base_uri": "https://localhost:8080/"
        },
        "id": "r91oU1DzcvfF",
        "outputId": "d95fff92-644d-43f3-f3d4-23647958c98e"
      },
      "execution_count": null,
      "outputs": [
        {
          "output_type": "stream",
          "name": "stdout",
          "text": [
            "8\n"
          ]
        }
      ]
    },
    {
      "cell_type": "code",
      "source": [
        "x = 5\n",
        "y = 3\n",
        "\n",
        "print(x - y)"
      ],
      "metadata": {
        "colab": {
          "base_uri": "https://localhost:8080/"
        },
        "id": "tLlmOdOBpsKz",
        "outputId": "42295df8-83ad-48d9-cf14-7c43abe5fa65"
      },
      "execution_count": null,
      "outputs": [
        {
          "output_type": "stream",
          "name": "stdout",
          "text": [
            "2\n"
          ]
        }
      ]
    },
    {
      "cell_type": "code",
      "source": [
        "x = 5\n",
        "y = 3\n",
        "\n",
        "print(x * y)"
      ],
      "metadata": {
        "colab": {
          "base_uri": "https://localhost:8080/"
        },
        "id": "XKTePo8SpwU4",
        "outputId": "c4597b3c-86ed-4413-e0d5-5b2cfa938bae"
      },
      "execution_count": null,
      "outputs": [
        {
          "output_type": "stream",
          "name": "stdout",
          "text": [
            "15\n"
          ]
        }
      ]
    },
    {
      "cell_type": "code",
      "source": [
        "x = 12\n",
        "y = 3\n",
        "\n",
        "print(x / y)"
      ],
      "metadata": {
        "colab": {
          "base_uri": "https://localhost:8080/"
        },
        "id": "u4LX16S8p0Hf",
        "outputId": "83135f0d-59b0-45fc-a379-bf0111c2059c"
      },
      "execution_count": null,
      "outputs": [
        {
          "output_type": "stream",
          "name": "stdout",
          "text": [
            "4.0\n"
          ]
        }
      ]
    },
    {
      "cell_type": "code",
      "source": [
        "x = 5\n",
        "y = 2\n",
        "\n",
        "print(x % y)"
      ],
      "metadata": {
        "colab": {
          "base_uri": "https://localhost:8080/"
        },
        "id": "3XsMGd0Gp4bX",
        "outputId": "9e39eb9b-e3bf-4ab5-ba16-07ffc9df91e3"
      },
      "execution_count": null,
      "outputs": [
        {
          "output_type": "stream",
          "name": "stdout",
          "text": [
            "1\n"
          ]
        }
      ]
    },
    {
      "cell_type": "code",
      "source": [
        "x = 2\n",
        "y = 5\n",
        "\n",
        "print(x ** y) #same as 2*2*2*2*2"
      ],
      "metadata": {
        "colab": {
          "base_uri": "https://localhost:8080/"
        },
        "id": "Mbf9WqaFp-ui",
        "outputId": "12bed957-0d45-4a1e-9dcc-08be15abee0b"
      },
      "execution_count": null,
      "outputs": [
        {
          "output_type": "stream",
          "name": "stdout",
          "text": [
            "32\n"
          ]
        }
      ]
    },
    {
      "cell_type": "code",
      "source": [
        "x = 15\n",
        "y = 2\n",
        "\n",
        "print(x // y)\n",
        "\n",
        "#the floor division // rounds the result down to the nearest whole number"
      ],
      "metadata": {
        "colab": {
          "base_uri": "https://localhost:8080/"
        },
        "id": "PgGJtHLuqHzB",
        "outputId": "5c15b8ed-53c8-47f2-bf4a-d02eb4c0fdba"
      },
      "execution_count": null,
      "outputs": [
        {
          "output_type": "stream",
          "name": "stdout",
          "text": [
            "7\n"
          ]
        }
      ]
    },
    {
      "cell_type": "markdown",
      "source": [
        "### Python Assignment Operators\n",
        "Assignment operators are used to assign values to variables:\n",
        "\n",
        "Operator | Example\n",
        "--- | ---\n",
        "= | X=5\n",
        "+=\t| x += 3\n",
        "-=\t|x -= 3\n",
        "*=\t| x *= 3\n",
        "%=\t| x %= 3\n",
        "//=\t| x //= 3\n",
        "**=\t| x **= 3\n",
        "&=\t|x &= 3\n",
        "$|$=\t| $X |= 3$\n",
        "^=\t| x ^= 3\n",
        ">>=\t| x >>= 3\n",
        "<<=\t|x <<= 3\n",
        "\n",
        "\n",
        "\n"
      ],
      "metadata": {
        "id": "RmVsnO8yqaEM"
      }
    },
    {
      "cell_type": "code",
      "source": [
        "x = 5\n",
        "\n",
        "print(x)"
      ],
      "metadata": {
        "colab": {
          "base_uri": "https://localhost:8080/"
        },
        "id": "eXnHdcdss08y",
        "outputId": "b4d00f34-8d83-417d-8c51-42af297c7dbf"
      },
      "execution_count": null,
      "outputs": [
        {
          "output_type": "stream",
          "name": "stdout",
          "text": [
            "5\n"
          ]
        }
      ]
    },
    {
      "cell_type": "code",
      "source": [
        "x = 5\n",
        "\n",
        "x += 3\n",
        "\n",
        "print(x)"
      ],
      "metadata": {
        "colab": {
          "base_uri": "https://localhost:8080/"
        },
        "id": "H2laIDvcs7YB",
        "outputId": "164c1f1b-94f3-485d-ade2-faf8d2087c2a"
      },
      "execution_count": null,
      "outputs": [
        {
          "output_type": "stream",
          "name": "stdout",
          "text": [
            "8\n"
          ]
        }
      ]
    },
    {
      "cell_type": "code",
      "source": [
        "x = 5\n",
        "\n",
        "x =  x+3\n",
        "\n",
        "print(x)"
      ],
      "metadata": {
        "colab": {
          "base_uri": "https://localhost:8080/"
        },
        "id": "E3TmUI2ltDJM",
        "outputId": "85bec606-078c-4523-92e0-519174cf6ad5"
      },
      "execution_count": null,
      "outputs": [
        {
          "output_type": "stream",
          "name": "stdout",
          "text": [
            "8\n"
          ]
        }
      ]
    },
    {
      "cell_type": "code",
      "source": [
        "x = 5\n",
        "\n",
        "x -= 3\n",
        "\n",
        "print(x)"
      ],
      "metadata": {
        "colab": {
          "base_uri": "https://localhost:8080/"
        },
        "id": "GZEve7gltJHd",
        "outputId": "0c41d1cc-2e6d-4198-af55-42222cbda1b7"
      },
      "execution_count": null,
      "outputs": [
        {
          "output_type": "stream",
          "name": "stdout",
          "text": [
            "2\n"
          ]
        }
      ]
    },
    {
      "cell_type": "code",
      "source": [
        "x = 5\n",
        "\n",
        "x *= 3\n",
        "\n",
        "print(x)"
      ],
      "metadata": {
        "colab": {
          "base_uri": "https://localhost:8080/"
        },
        "id": "TOONC3kctQx5",
        "outputId": "81590176-78f6-4f43-8de7-889cb33bd932"
      },
      "execution_count": null,
      "outputs": [
        {
          "output_type": "stream",
          "name": "stdout",
          "text": [
            "15\n"
          ]
        }
      ]
    },
    {
      "cell_type": "code",
      "source": [
        "x = 5\n",
        "\n",
        "x /= 3\n",
        "\n",
        "print(x)"
      ],
      "metadata": {
        "colab": {
          "base_uri": "https://localhost:8080/"
        },
        "id": "pXDYKmQdtWii",
        "outputId": "832386c1-5b30-4134-fa43-1e45b38dcc8b"
      },
      "execution_count": null,
      "outputs": [
        {
          "output_type": "stream",
          "name": "stdout",
          "text": [
            "1.6666666666666667\n"
          ]
        }
      ]
    },
    {
      "cell_type": "code",
      "source": [
        "x = 5\n",
        "\n",
        "x%=3\n",
        "\n",
        "print(x)"
      ],
      "metadata": {
        "colab": {
          "base_uri": "https://localhost:8080/"
        },
        "id": "bBvat9oVtgJB",
        "outputId": "7e670672-7e04-485d-bc6e-d420e41e6d11"
      },
      "execution_count": null,
      "outputs": [
        {
          "output_type": "stream",
          "name": "stdout",
          "text": [
            "2\n"
          ]
        }
      ]
    },
    {
      "cell_type": "code",
      "source": [
        "x = 7\n",
        "\n",
        "x//=3\n",
        "\n",
        "print(x)"
      ],
      "metadata": {
        "colab": {
          "base_uri": "https://localhost:8080/"
        },
        "id": "Q7PBb8VjtoIc",
        "outputId": "02036f23-a9e2-4cb8-b4f7-d486b7031036"
      },
      "execution_count": null,
      "outputs": [
        {
          "output_type": "stream",
          "name": "stdout",
          "text": [
            "2\n"
          ]
        }
      ]
    },
    {
      "cell_type": "code",
      "source": [
        "x = 5\n",
        "\n",
        "x **= 3\n",
        "\n",
        "print(x)"
      ],
      "metadata": {
        "colab": {
          "base_uri": "https://localhost:8080/"
        },
        "id": "OYMMXqwSwOK9",
        "outputId": "ec351a0e-3819-44bf-f72e-3713ab03b2a4"
      },
      "execution_count": null,
      "outputs": [
        {
          "output_type": "stream",
          "name": "stdout",
          "text": [
            "125\n"
          ]
        }
      ]
    },
    {
      "cell_type": "markdown",
      "source": [
        "### Python - [Bitwise Operators](https://www.tutorialspoint.com/python/python_bitwise_operators.htm)\n",
        "\n",
        "[Decimal to Binary](https://www.cuemath.com/numbers/decimal-to-binary/)\n",
        "\n",
        "[Binary to Decimal](https://www.geeksforgeeks.org/binary-to-decimal/)\n"
      ],
      "metadata": {
        "id": "1zfdA9T1vOTw"
      }
    },
    {
      "cell_type": "markdown",
      "source": [
        "In Python, the \"&\" symbol is used as a bitwise AND operator, and \"=\" is used as the assignment operator.\n",
        "\n",
        "The bitwise AND operator, when used with integers, performs a bitwise AND operation on the binary representation of the numbers. It compares the corresponding bits of two numbers and produces a result where each bit is set to 1 if and only if both corresponding bits in the operands are 1. Here's an example:"
      ],
      "metadata": {
        "id": "21uoGyYxyxTS"
      }
    },
    {
      "cell_type": "code",
      "source": [
        "a = 5  # binary: 0101\n",
        "b = 3  # binary: 0011\n",
        "c = a & b  # binary: 0001 (decimal: 1)\n",
        "print(c)  # Output: 1"
      ],
      "metadata": {
        "colab": {
          "base_uri": "https://localhost:8080/"
        },
        "id": "LCJPqk8Ryyu3",
        "outputId": "a7d20970-2b8d-4e17-a94e-01567fc13213"
      },
      "execution_count": null,
      "outputs": [
        {
          "output_type": "stream",
          "name": "stdout",
          "text": [
            "1\n"
          ]
        }
      ]
    },
    {
      "cell_type": "markdown",
      "source": [
        "Let us take two integers 60 and 13, and assign them to variables a and b respectively."
      ],
      "metadata": {
        "id": "Gm4ihdxIwB15"
      }
    },
    {
      "cell_type": "code",
      "source": [
        "a=60\n",
        "b=13\n",
        "print (\"a:\",a, \"b:\",b, \"a&b:\",a&b)"
      ],
      "metadata": {
        "colab": {
          "base_uri": "https://localhost:8080/"
        },
        "id": "Q-kFOipBwJnQ",
        "outputId": "d9262cd7-cf1b-4c41-c05e-20152070d4a0"
      },
      "execution_count": null,
      "outputs": [
        {
          "output_type": "stream",
          "name": "stdout",
          "text": [
            "a: 60 b: 13 a&b: 12\n"
          ]
        }
      ]
    },
    {
      "cell_type": "markdown",
      "source": [
        "To understand how Python performs the operation, obtain the binary equivalent of each variable."
      ],
      "metadata": {
        "id": "2THkw62UwTXK"
      }
    },
    {
      "cell_type": "code",
      "source": [
        "print (\"a:\", bin(a))\n",
        "print (\"b:\", bin(b))"
      ],
      "metadata": {
        "colab": {
          "base_uri": "https://localhost:8080/"
        },
        "id": "1wtN8Vb1wcTo",
        "outputId": "c9b745a4-8b77-4a48-fbbb-2fe88cacd83d"
      },
      "execution_count": null,
      "outputs": [
        {
          "output_type": "stream",
          "name": "stdout",
          "text": [
            "a: 0b111100\n",
            "b: 0b1101\n"
          ]
        }
      ]
    },
    {
      "cell_type": "markdown",
      "source": [
        "For the sake of convenience, use the standard 8-bit format for each number, so that \"a\" is 00111100 and \"b\" is 00001101. Let us manually perform and operation on each corresponding bits of these two numbers.\n",
        "\n",
        "0011 1100\n",
        "\n",
        "&\n",
        "\n",
        "0000 1101\n",
        "\n",
        "-------------\n",
        "0000 1100\n",
        "\n",
        "Convert the resultant binary back to integer. You'll get 12, which was the result obtained earlier."
      ],
      "metadata": {
        "id": "SMdYSGvLw03d"
      }
    },
    {
      "cell_type": "code",
      "source": [
        "int('00001100',2)"
      ],
      "metadata": {
        "colab": {
          "base_uri": "https://localhost:8080/"
        },
        "id": "0JgWL4MWwzRh",
        "outputId": "4d50c67b-2d8b-4fd4-ae4f-24f4ba693f65"
      },
      "execution_count": null,
      "outputs": [
        {
          "output_type": "execute_result",
          "data": {
            "text/plain": [
              "12"
            ]
          },
          "metadata": {},
          "execution_count": 6
        }
      ]
    },
    {
      "cell_type": "code",
      "source": [
        "a = 5          # initialize the value of a\n",
        "b = 6          # initialize the value of b\n",
        "print('a&b:', a&b)\n",
        "print('a|b:', a|b)\n",
        "print('a^b:', a^b)\n",
        "print('~a:', ~a)\n",
        "print('a<<b:', a<<b)\n",
        "print('a>>b:', a>>b)"
      ],
      "metadata": {
        "colab": {
          "base_uri": "https://localhost:8080/"
        },
        "id": "fw83oeetsYY7",
        "outputId": "c2840da7-caf2-4218-c721-339b8b4416d7"
      },
      "execution_count": null,
      "outputs": [
        {
          "output_type": "stream",
          "name": "stdout",
          "text": [
            "a&b: 4\n",
            "a|b: 7\n",
            "a^b: 3\n",
            "~a: -6\n",
            "a<<b: 320\n",
            "a>>b: 0\n"
          ]
        }
      ]
    },
    {
      "cell_type": "markdown",
      "source": [
        "### [Comparison operator](https://www.tutorialspoint.com/python/python_comparison_operators.htm)\n",
        "Comparison operators mainly use for comparison purposes.\n",
        "\n",
        "Comparison operators compare the values of the two operands and return a true or false Boolean value in accordance.\n",
        "\n",
        "The example of comparison operators are ==, !=, <=, >=, >, <. In the below table, we explain the works of the operators.\n",
        "\n",
        "Operator | Name | Description\n",
        "--- | --- | ---\n",
        "== | Equal | If the value of two operands is equal, then the condition becomes true.\n",
        "!= | Not equal |\tIf the value of two operands is not equal, then the condition becomes true.\n",
        "<=\t| Less than or equal to | The condition is met if the first operand is smaller than or equal to the second operand.\n",
        ">=\t| Greater than or equal to | The condition is met if the first operand is greater than or equal to the second operand.\n",
        ">\t| Greater than | If the first operand is greater than the second operand, then the condition becomes true.\n",
        "<\t| Less than | If the first operand is less than the second operand, then the condition becomes true.\n"
      ],
      "metadata": {
        "id": "m9Dx_7TezUNh"
      }
    },
    {
      "cell_type": "code",
      "source": [
        "print (\"Both operands are integer\")\n",
        "a=5\n",
        "b=7\n",
        "print (\"a=\",a, \"b=\",b, \"a>b is\", a>b)\n",
        "print (\"a=\",a, \"b=\",b,\"a<b is\",a<b)\n",
        "print (\"a=\",a, \"b=\",b,\"a==b is\",a==b)\n",
        "print (\"a=\",a, \"b=\",b,\"a!=b is\",a!=b)"
      ],
      "metadata": {
        "colab": {
          "base_uri": "https://localhost:8080/"
        },
        "id": "qIvV--8D2b7d",
        "outputId": "ff790f9d-8161-4980-b528-6348d4a92d0d"
      },
      "execution_count": null,
      "outputs": [
        {
          "output_type": "stream",
          "name": "stdout",
          "text": [
            "Both operands are integer\n",
            "a= 5 b= 7 a>b is False\n",
            "a= 5 b= 7 a<b is True\n",
            "a= 5 b= 7 a==b is False\n",
            "a= 5 b= 7 a!=b is True\n"
          ]
        }
      ]
    },
    {
      "cell_type": "markdown",
      "source": [
        "### [Python Logical Operators](https://www.tutorialspoint.com/python/python_logical_operators.htm)\n",
        "Python logical operators are used to combile two or more conditions and check the final result.\n",
        "\n",
        "The examples of logical operators are and, or, and not.\n",
        "\n",
        "Operator | Description\n",
        "--- | ---\n",
        "and\t| The condition will also be true if the expression is true. If the two expressions a and b are the same, then a and b must both be true.\n",
        "or\t| The condition will be true if one of the phrases is true. If a and b are the two expressions, then an or b must be true if and is true and b is false.\n",
        "not\t| If an expression a is true, then not (a) will be false and vice versa."
      ],
      "metadata": {
        "id": "C5rjdlDq4KVg"
      }
    },
    {
      "cell_type": "code",
      "source": [
        "x = 5\n",
        "\n",
        "print(x > 3 and x < 10)\n",
        "\n",
        "# returns True because 5 is greater than 3 AND 5 is less than 10"
      ],
      "metadata": {
        "colab": {
          "base_uri": "https://localhost:8080/"
        },
        "id": "k0keF7S-8NHB",
        "outputId": "8f16ce0d-dc93-4d58-f373-58036a3a1ac8"
      },
      "execution_count": null,
      "outputs": [
        {
          "output_type": "stream",
          "name": "stdout",
          "text": [
            "True\n"
          ]
        }
      ]
    },
    {
      "cell_type": "code",
      "source": [
        "x = 5\n",
        "\n",
        "print(x > 3 or x < 4)\n",
        "\n",
        "# returns True because one of the conditions are true (5 is greater than 3, but 5 is not less than 4)"
      ],
      "metadata": {
        "colab": {
          "base_uri": "https://localhost:8080/"
        },
        "id": "GYlmQAGh8lP2",
        "outputId": "6085b095-f5b2-4bb2-c1eb-493f88911b45"
      },
      "execution_count": null,
      "outputs": [
        {
          "output_type": "stream",
          "name": "stdout",
          "text": [
            "True\n"
          ]
        }
      ]
    },
    {
      "cell_type": "code",
      "source": [
        "x = 5\n",
        "\n",
        "print(not(x > 3 and x < 10))\n",
        "\n",
        "# returns False because not is used to reverse the result"
      ],
      "metadata": {
        "colab": {
          "base_uri": "https://localhost:8080/"
        },
        "id": "i1AwaOXe8xQQ",
        "outputId": "544b3ec7-c94e-4da6-a307-8842b2be06bb"
      },
      "execution_count": null,
      "outputs": [
        {
          "output_type": "stream",
          "name": "stdout",
          "text": [
            "False\n"
          ]
        }
      ]
    },
    {
      "cell_type": "markdown",
      "source": [
        "### [Identity Operators](https://www.tutorialspoint.com/python/python_operators.htm)\n",
        "Identity operators compare the memory locations of two objects. There are two Identity operators explained below −\n",
        "\n",
        "Operator |\tDescription\n",
        "--- | ---\n",
        "is\t| If the references on both sides point to the same object, it is determined to be true.\n",
        "is not\t| If the references on both sides do not point at the same object, it is determined to be true."
      ],
      "metadata": {
        "id": "rWjqoIYjCmUp"
      }
    },
    {
      "cell_type": "code",
      "source": [
        "a = [\"Rose\", \"Lotus\"]\n",
        "b = [\"White\", \"Lotus\"]\n",
        "c = a\n",
        "print(a is c)\n",
        "print(a is not c)\n",
        "print(a is b)\n",
        "print(a is not b)\n",
        "print(a == b)\n",
        "print(a != b)"
      ],
      "metadata": {
        "id": "LeQpDw4dDQjT",
        "outputId": "ad489d04-59fd-4559-bc02-a9c1cf0a1fa7",
        "colab": {
          "base_uri": "https://localhost:8080/"
        }
      },
      "execution_count": 1,
      "outputs": [
        {
          "output_type": "stream",
          "name": "stdout",
          "text": [
            "True\n",
            "False\n",
            "False\n",
            "True\n",
            "False\n",
            "True\n"
          ]
        }
      ]
    },
    {
      "cell_type": "markdown",
      "source": [
        "### Membership Operators\n",
        "The membership of a value inside a Python data structure can be verified using Python membership operators. The result is true if the value is in the data structure; otherwise, it returns false.\n",
        "\n",
        "Operator\t| Description\n",
        "--- | ---\n",
        "in\t| If the first operand cannot be found in the second operand, it is evaluated to be true (list, tuple, or dictionary).\n",
        "not in\t| If the first operand is not present in the second operand, the evaluation is true (list, tuple, or dictionary)."
      ],
      "metadata": {
        "id": "uaoI_GbfwRPO"
      }
    },
    {
      "cell_type": "code",
      "source": [
        "x = [\"apple\", \"banana\"]\n",
        "\n",
        "print(\"banana\" in x)\n",
        "\n",
        "# returns True because a sequence with the value \"banana\" is in the list"
      ],
      "metadata": {
        "colab": {
          "base_uri": "https://localhost:8080/"
        },
        "id": "BH5ufcz-wzKo",
        "outputId": "1b9bf15a-bbf9-4456-c110-90187f8b95c8"
      },
      "execution_count": null,
      "outputs": [
        {
          "output_type": "stream",
          "name": "stdout",
          "text": [
            "True\n"
          ]
        }
      ]
    },
    {
      "cell_type": "code",
      "source": [
        "x = [\"apple\", \"banana\"]\n",
        "\n",
        "print(\"pineapple\" not in x)\n",
        "\n",
        "# returns True because a sequence with the value \"pineapple\" is not in the list"
      ],
      "metadata": {
        "colab": {
          "base_uri": "https://localhost:8080/"
        },
        "id": "JAMBbMSvwkF_",
        "outputId": "7799bb40-0097-4938-aeb9-4a9782141412"
      },
      "execution_count": null,
      "outputs": [
        {
          "output_type": "stream",
          "name": "stdout",
          "text": [
            "True\n"
          ]
        }
      ]
    },
    {
      "cell_type": "markdown",
      "source": [
        "# Python Math\n",
        "Python has a set of built-in math functions, including an extensive math module, that allows you to perform mathematical tasks on numbers.\n",
        "Built-in Math Functions\n",
        "The min() and max() functions can be used to find the lowest or highest value in an iterable:"
      ],
      "metadata": {
        "id": "eiS5VPUafEML"
      }
    },
    {
      "cell_type": "code",
      "source": [
        "x = min(5, 10, 25)\n",
        "y = max(5, 10, 25)\n",
        "\n",
        "print(x)\n",
        "print(y)"
      ],
      "metadata": {
        "colab": {
          "base_uri": "https://localhost:8080/"
        },
        "id": "OZg4FNIqfSXy",
        "outputId": "302ed20c-342b-44bf-a539-4a9acc6a4b26"
      },
      "execution_count": null,
      "outputs": [
        {
          "output_type": "stream",
          "name": "stdout",
          "text": [
            "5\n",
            "25\n"
          ]
        }
      ]
    },
    {
      "cell_type": "markdown",
      "source": [
        "The abs() function returns the absolute (positive) value of the specified number:"
      ],
      "metadata": {
        "id": "s-xv_j6Wfa8w"
      }
    },
    {
      "cell_type": "code",
      "source": [
        "x = abs(-7.25)\n",
        "\n",
        "print(x)"
      ],
      "metadata": {
        "colab": {
          "base_uri": "https://localhost:8080/"
        },
        "id": "fLqHnpamfd1O",
        "outputId": "d7a18783-620f-4fb9-ac14-a8c255e02c60"
      },
      "execution_count": null,
      "outputs": [
        {
          "output_type": "stream",
          "name": "stdout",
          "text": [
            "7.25\n"
          ]
        }
      ]
    },
    {
      "cell_type": "markdown",
      "source": [
        "The pow(x, y) function returns the value of x to the power of y (xy).\n",
        "Return the value of 4 to the power of 3 (same as 4 * 4 * 4):"
      ],
      "metadata": {
        "id": "aAf3ponfflEO"
      }
    },
    {
      "cell_type": "code",
      "source": [
        "x = pow(4, 3)\n",
        "\n",
        "print(x)"
      ],
      "metadata": {
        "colab": {
          "base_uri": "https://localhost:8080/"
        },
        "id": "BTLJq7Mpfo-Y",
        "outputId": "5c1bb28b-3601-4b52-d985-482d5965491e"
      },
      "execution_count": null,
      "outputs": [
        {
          "output_type": "stream",
          "name": "stdout",
          "text": [
            "64\n"
          ]
        }
      ]
    },
    {
      "cell_type": "markdown",
      "source": [
        "# The Math Module\n",
        "Python has also a built-in module called math, which extends the list of mathematical functions.\n",
        "\n",
        "# To use it, you must import the math module:\n",
        "When you have imported the math module, you can start using methods and constants of the module.\n",
        "\n",
        "The math.sqrt() method for example, returns the square root of a number:"
      ],
      "metadata": {
        "id": "NpqlZgDtf1io"
      }
    },
    {
      "cell_type": "code",
      "source": [
        "import math\n",
        "\n",
        "x = math.sqrt(64)\n",
        "\n",
        "print(x)"
      ],
      "metadata": {
        "colab": {
          "base_uri": "https://localhost:8080/"
        },
        "id": "OgwnOv73gSVx",
        "outputId": "618f6b7d-c930-4419-dc96-c0b87398cda4"
      },
      "execution_count": null,
      "outputs": [
        {
          "output_type": "stream",
          "name": "stdout",
          "text": [
            "8.0\n"
          ]
        }
      ]
    },
    {
      "cell_type": "markdown",
      "source": [
        "The math.ceil() method rounds a number upwards to its nearest integer, and the math.floor() method rounds a number downwards to its nearest integer, and returns the result:"
      ],
      "metadata": {
        "id": "dG0cku5VgcdA"
      }
    },
    {
      "cell_type": "code",
      "source": [
        "import math\n",
        "\n",
        "x = math.ceil(1.4)\n",
        "y = math.floor(1.4)\n",
        "\n",
        "print(x) # returns 2\n",
        "print(y) # returns 1"
      ],
      "metadata": {
        "colab": {
          "base_uri": "https://localhost:8080/"
        },
        "id": "qM4NYwB2gfuW",
        "outputId": "3318d2e4-b291-4803-ad61-5709674d0eaf"
      },
      "execution_count": null,
      "outputs": [
        {
          "output_type": "stream",
          "name": "stdout",
          "text": [
            "2\n",
            "1\n"
          ]
        }
      ]
    },
    {
      "cell_type": "markdown",
      "source": [
        "The math.pi constant, returns the value of PI (3.14...):"
      ],
      "metadata": {
        "id": "IObffpFLgxmc"
      }
    },
    {
      "cell_type": "code",
      "source": [
        "import math\n",
        "\n",
        "x = math.pi\n",
        "\n",
        "print(x)"
      ],
      "metadata": {
        "id": "oNFNdtTMg3AJ",
        "outputId": "ad4a83ec-f15f-4794-8c9b-5cc9b189d496",
        "colab": {
          "base_uri": "https://localhost:8080/"
        }
      },
      "execution_count": null,
      "outputs": [
        {
          "output_type": "stream",
          "name": "stdout",
          "text": [
            "3.141592653589793\n"
          ]
        }
      ]
    },
    {
      "cell_type": "code",
      "source": [
        "#Find the natural logarithm of different numbers\n",
        "# Import math Library\n",
        "import math\n",
        "\n",
        "# Return the natural logarithm of different numbers\n",
        "print(math.log(2.7183))\n",
        "print(math.log(2))\n",
        "print(math.log(1))"
      ],
      "metadata": {
        "colab": {
          "base_uri": "https://localhost:8080/"
        },
        "id": "KJI2qDVL-rZB",
        "outputId": "55394e8b-daf1-4b66-d600-ddcc7e867cb6"
      },
      "execution_count": null,
      "outputs": [
        {
          "output_type": "stream",
          "name": "stdout",
          "text": [
            "1.0000066849139877\n",
            "0.6931471805599453\n",
            "0.0\n"
          ]
        }
      ]
    },
    {
      "cell_type": "code",
      "source": [
        "# Find the base-10 logarithm of different numbers\n",
        "\n",
        "# Import math Library\n",
        "import math\n",
        "\n",
        "# Return the base-10 logarithm of different numbers\n",
        "print(math.log10(2.7183))\n",
        "print(math.log10(2))\n",
        "print(math.log10(1))"
      ],
      "metadata": {
        "colab": {
          "base_uri": "https://localhost:8080/"
        },
        "id": "mKQt5GcZ-8EH",
        "outputId": "fd10f752-d34d-4cf1-801c-685c5f2e9bd1"
      },
      "execution_count": null,
      "outputs": [
        {
          "output_type": "stream",
          "name": "stdout",
          "text": [
            "0.43429738512450866\n",
            "0.3010299956639812\n",
            "0.0\n"
          ]
        }
      ]
    },
    {
      "cell_type": "code",
      "source": [
        "# Find the sine of different numbers:\n",
        "# Import math Library\n",
        "import math\n",
        "# Return the sine of different values\n",
        "print (math.sin(0.00))\n",
        "print (math.sin(-1.23))\n",
        "print (math.sin(10))\n",
        "print (math.sin(math.pi))\n",
        "print (math.sin(math.pi/2))"
      ],
      "metadata": {
        "colab": {
          "base_uri": "https://localhost:8080/"
        },
        "id": "qvv2EIw5_QrH",
        "outputId": "7a3a1b2d-3ddc-4330-c73d-47a3d1a61404"
      },
      "execution_count": null,
      "outputs": [
        {
          "output_type": "stream",
          "name": "stdout",
          "text": [
            "0.0\n",
            "-0.9424888019316975\n",
            "-0.5440211108893698\n",
            "1.2246467991473532e-16\n",
            "1.0\n"
          ]
        }
      ]
    },
    {
      "cell_type": "markdown",
      "source": [
        "### Python Conditions and If statements\n",
        "Python supports the usual logical conditions from mathematics:\n",
        "\n",
        "* Equals: a == b\n",
        "* Not Equals: a != b\n",
        "* Less than: a < b\n",
        "* Less than or equal to: a <= b\n",
        "* Greater than: a > b\n",
        "* Greater than or equal to: a >= b\n",
        "\n",
        "These conditions can be used in several ways, most commonly in \"if statements\" and loops.\n",
        "\n",
        "An \"if statement\" is written by using the if keyword."
      ],
      "metadata": {
        "id": "X48NkCB2BX65"
      }
    },
    {
      "cell_type": "code",
      "source": [
        "# If statement:\n",
        "a = 33\n",
        "b = 200\n",
        "if b > a:\n",
        "  print(\"b is greater than a\")"
      ],
      "metadata": {
        "colab": {
          "base_uri": "https://localhost:8080/"
        },
        "id": "69g0tYFTB1ae",
        "outputId": "b3be8a9f-b9dd-4170-f9d0-d4700fbdf33c"
      },
      "execution_count": null,
      "outputs": [
        {
          "output_type": "stream",
          "name": "stdout",
          "text": [
            "b is greater than a\n"
          ]
        }
      ]
    },
    {
      "cell_type": "markdown",
      "source": [
        "### Elif\n",
        "The elif keyword is Python's way of saying \"if the previous conditions were not true, then try this condition\"."
      ],
      "metadata": {
        "id": "RNET2hzWCYCZ"
      }
    },
    {
      "cell_type": "code",
      "source": [
        "a = 33\n",
        "b = 33\n",
        "if b > a:\n",
        "  print(\"b is greater than a\")\n",
        "elif a == b:\n",
        "  print(\"a and b are equal\")"
      ],
      "metadata": {
        "colab": {
          "base_uri": "https://localhost:8080/"
        },
        "id": "cMthB9_ICVc_",
        "outputId": "1ebc0704-fd10-4ea7-ed06-c013347fa873"
      },
      "execution_count": null,
      "outputs": [
        {
          "output_type": "stream",
          "name": "stdout",
          "text": [
            "a and b are equal\n"
          ]
        }
      ]
    },
    {
      "cell_type": "markdown",
      "source": [
        "### Else\n",
        "The else keyword catches anything which isn't caught by the preceding conditions."
      ],
      "metadata": {
        "id": "4jOayUoOGMt8"
      }
    },
    {
      "cell_type": "code",
      "source": [
        "a = 200\n",
        "b = 33\n",
        "if b > a:\n",
        "  print(\"b is greater than a\")\n",
        "elif a == b:\n",
        "  print(\"a and b are equal\")\n",
        "else:\n",
        "  print(\"a is greater than b\")"
      ],
      "metadata": {
        "colab": {
          "base_uri": "https://localhost:8080/"
        },
        "id": "uonLLtObGRhT",
        "outputId": "e68b6d52-4f0b-4e11-c4c0-2883325e499f"
      },
      "execution_count": null,
      "outputs": [
        {
          "output_type": "stream",
          "name": "stdout",
          "text": [
            "a is greater than b\n"
          ]
        }
      ]
    },
    {
      "cell_type": "code",
      "source": [
        "a = 200\n",
        "b = 33\n",
        "if b > a:\n",
        "  print(\"b is greater than a\")\n",
        "else:\n",
        "  print(\"b is not greater than a\")"
      ],
      "metadata": {
        "colab": {
          "base_uri": "https://localhost:8080/"
        },
        "id": "7oiuTCDmG2uD",
        "outputId": "378b171f-6394-4715-931e-6b5b1684e89a"
      },
      "execution_count": null,
      "outputs": [
        {
          "output_type": "stream",
          "name": "stdout",
          "text": [
            "b is not greater than a\n"
          ]
        }
      ]
    },
    {
      "cell_type": "code",
      "source": [
        "# One line if else statement:\n",
        "\n",
        "a = 2\n",
        "b = 330\n",
        "print(\"A\") if a > b else print(\"B\")"
      ],
      "metadata": {
        "colab": {
          "base_uri": "https://localhost:8080/"
        },
        "id": "EvzgQ35pIZ8H",
        "outputId": "870c47b9-a668-4cd6-f433-ef69f8b3d9ef"
      },
      "execution_count": null,
      "outputs": [
        {
          "output_type": "stream",
          "name": "stdout",
          "text": [
            "B\n"
          ]
        }
      ]
    },
    {
      "cell_type": "code",
      "source": [
        "# One line if else statement, with 3 conditions:\n",
        "\n",
        "a = 330\n",
        "b = 330\n",
        "print(\"A\") if a > b else print(\"=\") if a == b else print(\"B\")"
      ],
      "metadata": {
        "colab": {
          "base_uri": "https://localhost:8080/"
        },
        "id": "ns8H2oLyImuF",
        "outputId": "80b14f3b-edf4-42a5-f2eb-1352217b25c5"
      },
      "execution_count": null,
      "outputs": [
        {
          "output_type": "stream",
          "name": "stdout",
          "text": [
            "=\n"
          ]
        }
      ]
    },
    {
      "cell_type": "markdown",
      "source": [
        "### And\n",
        "The and keyword is a logical operator, and is used to combine conditional statements:"
      ],
      "metadata": {
        "id": "hYk2_nL_JK1t"
      }
    },
    {
      "cell_type": "code",
      "source": [
        "# Test if a is greater than b, AND if c is greater than a:\n",
        "\n",
        "a = 200\n",
        "b = 33\n",
        "c = 500\n",
        "if a > b and c > a:\n",
        "  print(\"Both conditions are True\")"
      ],
      "metadata": {
        "colab": {
          "base_uri": "https://localhost:8080/"
        },
        "id": "gZ-rYkEmJUiN",
        "outputId": "df670c55-2890-4176-9fa9-e535ef3645f6"
      },
      "execution_count": null,
      "outputs": [
        {
          "output_type": "stream",
          "name": "stdout",
          "text": [
            "Both conditions are True\n"
          ]
        }
      ]
    },
    {
      "cell_type": "markdown",
      "source": [
        "### Or\n",
        "The or keyword is a logical operator, and is used to combine conditional statements:"
      ],
      "metadata": {
        "id": "B2IP0xIwJiIw"
      }
    },
    {
      "cell_type": "code",
      "source": [
        "# Test if a is greater than b, OR if a is greater than c:\n",
        "\n",
        "a = 200\n",
        "b = 33\n",
        "c = 500\n",
        "if a > b or a > c:\n",
        "  print(\"At least one of the conditions is True\")"
      ],
      "metadata": {
        "colab": {
          "base_uri": "https://localhost:8080/"
        },
        "id": "iuj18V_TJntc",
        "outputId": "547f5397-e6c7-4d87-8f89-516a06e4886b"
      },
      "execution_count": null,
      "outputs": [
        {
          "output_type": "stream",
          "name": "stdout",
          "text": [
            "At least one of the conditions is True\n"
          ]
        }
      ]
    },
    {
      "cell_type": "markdown",
      "source": [
        "### Not\n",
        "The not keyword is a logical operator, and is used to reverse the result of the conditional statement:\n"
      ],
      "metadata": {
        "id": "oM9iJLsVJ6l4"
      }
    },
    {
      "cell_type": "code",
      "source": [
        "#Test if a is NOT greater than b:\n",
        "\n",
        "a = 33\n",
        "b = 200\n",
        "if not a > b:\n",
        "  print(\"a is NOT greater than b\")"
      ],
      "metadata": {
        "colab": {
          "base_uri": "https://localhost:8080/"
        },
        "id": "re_Mr95WKE0z",
        "outputId": "1aa646ac-c78e-433f-d206-fc0fcc5bb824"
      },
      "execution_count": null,
      "outputs": [
        {
          "output_type": "stream",
          "name": "stdout",
          "text": [
            "a is NOT greater than b\n"
          ]
        }
      ]
    },
    {
      "cell_type": "markdown",
      "source": [
        "### Nested If\n",
        "You can have if statements inside if statements, this is called nested if statements."
      ],
      "metadata": {
        "id": "op4nP8RqKWx0"
      }
    },
    {
      "cell_type": "code",
      "source": [
        "x = 41\n",
        "\n",
        "if x > 10:\n",
        "  print(\"Above ten,\")\n",
        "  if x > 20:\n",
        "    print(\"and also above 20!\")\n",
        "  else:\n",
        "    print(\"but not above 20.\")"
      ],
      "metadata": {
        "id": "PjsTdejxKa05",
        "outputId": "eb886583-383d-404d-d944-8bab31c9c448",
        "colab": {
          "base_uri": "https://localhost:8080/"
        }
      },
      "execution_count": null,
      "outputs": [
        {
          "output_type": "stream",
          "name": "stdout",
          "text": [
            "Above ten,\n",
            "and also above 20!\n"
          ]
        }
      ]
    },
    {
      "cell_type": "markdown",
      "source": [
        "### The while Loop\n",
        "With the while loop we can execute a set of statements as long as a condition is true."
      ],
      "metadata": {
        "id": "CAPWdapCIWl3"
      }
    },
    {
      "cell_type": "code",
      "source": [
        "# Print i as long as i is less than 6:\n",
        "\n",
        "i = 1\n",
        "while i < 6:\n",
        "  print(i)\n",
        "  i += 1"
      ],
      "metadata": {
        "colab": {
          "base_uri": "https://localhost:8080/"
        },
        "id": "JXDofEx3IZ3u",
        "outputId": "c2a40946-fd5a-43ea-bb53-0293bba7311b"
      },
      "execution_count": null,
      "outputs": [
        {
          "output_type": "stream",
          "name": "stdout",
          "text": [
            "1\n",
            "2\n",
            "3\n",
            "4\n",
            "5\n"
          ]
        }
      ]
    },
    {
      "cell_type": "markdown",
      "source": [],
      "metadata": {
        "id": "DOYy6hmnIWdz"
      }
    },
    {
      "cell_type": "markdown",
      "source": [
        "### The break Statement\n",
        "With the break statement we can stop the loop even if the while condition is true:"
      ],
      "metadata": {
        "id": "e2xW-EiuIm9Y"
      }
    },
    {
      "cell_type": "code",
      "source": [
        "# Exit the loop when i is 3:\n",
        "\n",
        "i = 1\n",
        "while i < 6:\n",
        "  print(i)\n",
        "  if i == 3:\n",
        "    break\n",
        "  i += 1"
      ],
      "metadata": {
        "colab": {
          "base_uri": "https://localhost:8080/"
        },
        "id": "gum7QchgIo1Y",
        "outputId": "bab69de9-7dfc-43f9-ddba-d0a1140daf62"
      },
      "execution_count": null,
      "outputs": [
        {
          "output_type": "stream",
          "name": "stdout",
          "text": [
            "1\n",
            "2\n",
            "3\n"
          ]
        }
      ]
    },
    {
      "cell_type": "markdown",
      "source": [
        "### The continue Statement\n",
        "With the continue statement we can stop the current iteration, and continue with the next:"
      ],
      "metadata": {
        "id": "ktQm7hujI-Oc"
      }
    },
    {
      "cell_type": "code",
      "source": [
        "# Continue to the next iteration if i is 3:\n",
        "\n",
        "i = 0\n",
        "while i < 6:\n",
        "  i += 1\n",
        "  if i == 3:\n",
        "    continue\n",
        "  print(i)"
      ],
      "metadata": {
        "colab": {
          "base_uri": "https://localhost:8080/"
        },
        "id": "vsBeDtKgJEYW",
        "outputId": "7f398414-5f86-418e-cd1c-dfa7226f7d59"
      },
      "execution_count": null,
      "outputs": [
        {
          "output_type": "stream",
          "name": "stdout",
          "text": [
            "1\n",
            "2\n",
            "4\n",
            "5\n",
            "6\n"
          ]
        }
      ]
    },
    {
      "cell_type": "markdown",
      "source": [
        "### The else Statement\n",
        "With the else statement we can run a block of code once when the condition no longer is true:"
      ],
      "metadata": {
        "id": "2IKQpUB1Jo1b"
      }
    },
    {
      "cell_type": "code",
      "source": [
        "# Print a message once the condition is false:\n",
        "\n",
        "i = 1\n",
        "while i < 6:\n",
        "  print(i)\n",
        "  i += 1\n",
        "else:\n",
        "  print(\"i is no longer less than 6\")"
      ],
      "metadata": {
        "colab": {
          "base_uri": "https://localhost:8080/"
        },
        "id": "nuhHJkGuJsop",
        "outputId": "1f5127ee-87dd-4758-ee95-343a32bd0f8a"
      },
      "execution_count": null,
      "outputs": [
        {
          "output_type": "stream",
          "name": "stdout",
          "text": [
            "1\n",
            "2\n",
            "3\n",
            "4\n",
            "5\n",
            "i is no longer less than 6\n"
          ]
        }
      ]
    },
    {
      "cell_type": "markdown",
      "source": [
        "### Python For Loops\n",
        "A for loop is used for iterating over a sequence (that is either a list, a tuple, a dictionary, a set, or a string).\n",
        "\n",
        "This is less like the for keyword in other programming languages, and works more like an iterator method as found in other object-orientated programming languages.\n",
        "\n",
        "With the for loop we can execute a set of statements, once for each item in a list, tuple, set etc."
      ],
      "metadata": {
        "id": "_dTk4zzRLXqF"
      }
    },
    {
      "cell_type": "code",
      "source": [
        "#Print each fruit in a fruit list:\n",
        "\n",
        "fruits = [\"apple\", \"banana\", \"cherry\"]\n",
        "for x in fruits:\n",
        "  print(x)"
      ],
      "metadata": {
        "colab": {
          "base_uri": "https://localhost:8080/"
        },
        "id": "-n6zoc7OLfWs",
        "outputId": "1f510d15-c8a8-4d5f-93fb-f08ccb2f583f"
      },
      "execution_count": null,
      "outputs": [
        {
          "output_type": "stream",
          "name": "stdout",
          "text": [
            "apple\n",
            "banana\n",
            "cherry\n"
          ]
        }
      ]
    },
    {
      "cell_type": "markdown",
      "source": [
        "### The break Statement\n",
        "With the break statement we can stop the loop before it has looped through all the items:"
      ],
      "metadata": {
        "id": "0ccG1pplLuKc"
      }
    },
    {
      "cell_type": "code",
      "source": [
        "#Exit the loop when x is \"banana\":\n",
        "\n",
        "fruits = [\"apple\", \"banana\", \"cherry\"]\n",
        "for x in fruits:\n",
        "  print(x)\n",
        "  if x == \"banana\":\n",
        "    break"
      ],
      "metadata": {
        "colab": {
          "base_uri": "https://localhost:8080/"
        },
        "id": "ALySOnjtLxWz",
        "outputId": "b13b07ce-3d68-41c8-9951-76275af1849d"
      },
      "execution_count": null,
      "outputs": [
        {
          "output_type": "stream",
          "name": "stdout",
          "text": [
            "apple\n",
            "banana\n"
          ]
        }
      ]
    },
    {
      "cell_type": "markdown",
      "source": [
        "### The continue Statement\n",
        "With the continue statement we can stop the current iteration of the loop, and continue with the next:"
      ],
      "metadata": {
        "id": "fx61uPPyNL7D"
      }
    },
    {
      "cell_type": "code",
      "source": [
        "#Do not print banana:\n",
        "\n",
        "fruits = [\"apple\", \"banana\", \"cherry\"]\n",
        "for x in fruits:\n",
        "  if x == \"banana\":\n",
        "    continue\n",
        "  print(x)"
      ],
      "metadata": {
        "colab": {
          "base_uri": "https://localhost:8080/"
        },
        "id": "la9v2lWtNhF4",
        "outputId": "94097c11-e74b-43c4-d724-d9b81ea0c1dd"
      },
      "execution_count": null,
      "outputs": [
        {
          "output_type": "stream",
          "name": "stdout",
          "text": [
            "apple\n",
            "cherry\n"
          ]
        }
      ]
    },
    {
      "cell_type": "markdown",
      "source": [
        "### The range() Function\n",
        "To loop through a set of code a specified number of times, we can use the range() function,\n",
        "The range() function returns a sequence of numbers, starting from 0 by default, and increments by 1 (by default), and ends at a specified number."
      ],
      "metadata": {
        "id": "lXphGVzRN7am"
      }
    },
    {
      "cell_type": "code",
      "source": [
        "#Using the range() function:\n",
        "\n",
        "for x in range(6):\n",
        "  print(x)"
      ],
      "metadata": {
        "colab": {
          "base_uri": "https://localhost:8080/"
        },
        "id": "f0EXbsrxP8xP",
        "outputId": "f2500a6b-59b7-4cd1-f2b1-6cb5fb1ee316"
      },
      "execution_count": null,
      "outputs": [
        {
          "output_type": "stream",
          "name": "stdout",
          "text": [
            "0\n",
            "1\n",
            "2\n",
            "3\n",
            "4\n",
            "5\n"
          ]
        }
      ]
    },
    {
      "cell_type": "code",
      "source": [
        "#Using the start parameter:\n",
        "\n",
        "for x in range(2, 6):\n",
        "  print(x)"
      ],
      "metadata": {
        "colab": {
          "base_uri": "https://localhost:8080/"
        },
        "id": "dUprBRdLRIcl",
        "outputId": "2e233f80-b632-4d7b-bea8-fe03e3546881"
      },
      "execution_count": null,
      "outputs": [
        {
          "output_type": "stream",
          "name": "stdout",
          "text": [
            "2\n",
            "3\n",
            "4\n",
            "5\n"
          ]
        }
      ]
    },
    {
      "cell_type": "code",
      "source": [
        "#Increment the sequence with 3 (default is 1):\n",
        "\n",
        "for x in range(2, 30, 3):\n",
        "  print(x)"
      ],
      "metadata": {
        "colab": {
          "base_uri": "https://localhost:8080/"
        },
        "id": "VBfjV_KGRQvs",
        "outputId": "247844e3-6086-4c7e-dd57-545c512c1db4"
      },
      "execution_count": null,
      "outputs": [
        {
          "output_type": "stream",
          "name": "stdout",
          "text": [
            "2\n",
            "5\n",
            "8\n",
            "11\n",
            "14\n",
            "17\n",
            "20\n",
            "23\n",
            "26\n",
            "29\n"
          ]
        }
      ]
    },
    {
      "cell_type": "markdown",
      "source": [
        "### Else in For Loop\n",
        "The else keyword in a for loop specifies a block of code to be executed when the loop is finished:"
      ],
      "metadata": {
        "id": "CQEh9xhNRbDM"
      }
    },
    {
      "cell_type": "code",
      "source": [
        "#Print all numbers from 0 to 5, and print a message when the loop has ended:\n",
        "\n",
        "for x in range(6):\n",
        "  print(x)\n",
        "else:\n",
        "  print(\"Finally finished!\")"
      ],
      "metadata": {
        "colab": {
          "base_uri": "https://localhost:8080/"
        },
        "id": "9xP2lA9mRfU8",
        "outputId": "67265ae3-d91b-4113-fd81-1612718392e2"
      },
      "execution_count": null,
      "outputs": [
        {
          "output_type": "stream",
          "name": "stdout",
          "text": [
            "0\n",
            "1\n",
            "2\n",
            "3\n",
            "4\n",
            "5\n",
            "Finally finished!\n"
          ]
        }
      ]
    },
    {
      "cell_type": "markdown",
      "source": [
        "### Learning Outcomes\n",
        "Operators:\n",
        "\n",
        "Understand and apply Python operators, including arithmetic, comparison, and logical operators, to manipulate data and perform computations effectively.\n",
        "\n",
        "Math:\n",
        "\n",
        "Utilize the math module to perform advanced mathematical operations, handle numerical data, and gain proficiency in using functions like sqrt(), pow(), and abs().\n",
        "\n",
        "If-Else Statements:\n",
        "\n",
        "Master the use of conditional statements (if-else) to control program flow based on specific conditions, making informed decisions in code execution.\n",
        "\n",
        "While Loops:\n",
        "\n",
        "Skillfully implement while loops for repetitive tasks, ensuring controlled iteration until specified conditions are met, and understand the potential for infinite loops.\n",
        "\n",
        "Practical Application:\n",
        "\n",
        "Apply operators, mathematical functions, if-else statements, and while loops in practical scenarios, demonstrating problem-solving skills and efficient algorithmic thinking."
      ],
      "metadata": {
        "id": "hueuPBhf1uKB"
      }
    },
    {
      "cell_type": "markdown",
      "source": [
        "Write a Python program to find the area of a rectangle given that its length is 10 units and breadth is 20 units.\n"
      ],
      "metadata": {
        "id": "9vzvDjJvWJIy"
      }
    },
    {
      "cell_type": "code",
      "source": [
        "#To find the area of a rectangle\n",
        "length = 10\n",
        "breadth = 20\n",
        "area = length * breadth\n",
        "print(area)\n"
      ],
      "metadata": {
        "colab": {
          "base_uri": "https://localhost:8080/"
        },
        "id": "iG2-_nofWKH6",
        "outputId": "31706177-3455-4ec4-a84c-9cf6bee2f4cd"
      },
      "execution_count": null,
      "outputs": [
        {
          "output_type": "stream",
          "name": "stdout",
          "text": [
            "200\n"
          ]
        }
      ]
    },
    {
      "cell_type": "markdown",
      "source": [
        "Python program to convert the temperature in degree centigrade to Fahrenheit."
      ],
      "metadata": {
        "id": "OhmnJmQ-Warl"
      }
    },
    {
      "cell_type": "code",
      "source": [
        "#Temperature in degrees Fahrenheit (°F) = (Temperature in degrees Celsius (°C) * 9/5) + 32.\n",
        "c = input(\"Enter temperature in Centigrade: \")\n",
        "f = (9*(int(c))/5)+32\n",
        "print(\"Temperature in Fahrenheit is: \", f)\n"
      ],
      "metadata": {
        "colab": {
          "base_uri": "https://localhost:8080/"
        },
        "id": "QbHfKyOtWbtl",
        "outputId": "e50af354-6c43-46fe-8d44-4c581c8f3605"
      },
      "execution_count": null,
      "outputs": [
        {
          "output_type": "stream",
          "name": "stdout",
          "text": [
            "Enter temperature in Centigrade: 20\n",
            "Temperature in Fahrenheit is:  68.0\n"
          ]
        }
      ]
    },
    {
      "cell_type": "markdown",
      "source": [
        "Solving the following word problem using Python:\n",
        "A grocery store sells a bag of ice for $1.25 and makes a 20% proft. If it sells 500 bags of ice, How much\n",
        "total profit does it make?\n"
      ],
      "metadata": {
        "id": "hHjaIHpGXQkn"
      }
    },
    {
      "cell_type": "code",
      "source": [
        "cost_of_ice_bag = 1.25\n",
        "profit_margin = .2\n",
        "number_of_bags = 500\n",
        "profit_per_bag = cost_of_ice_bag * profit_margin\n",
        "print (profit_per_bag)\n",
        "total_profit = number_of_bags * profit_per_bag\n",
        "print (total_profit)"
      ],
      "metadata": {
        "colab": {
          "base_uri": "https://localhost:8080/"
        },
        "id": "E8K5jrxaYEHr",
        "outputId": "41279bce-b19a-41ee-c11f-00ef7f40972a"
      },
      "execution_count": null,
      "outputs": [
        {
          "output_type": "stream",
          "name": "stdout",
          "text": [
            "0.25\n",
            "125.0\n"
          ]
        }
      ]
    },
    {
      "cell_type": "markdown",
      "source": [
        "A travel company wants to fly a plane to the Bahamas. Flying the plane costs 5000 dollars.So far, 29 people have signed up for the trip. If the company charges 200 dollars per ticket, what is the profit made by the company? Create variables for each numeric quantity and use appropriate arithmetic operations.\n",
        "\n"
      ],
      "metadata": {
        "id": "L7YVwLFbZVbf"
      }
    },
    {
      "cell_type": "code",
      "source": [
        "plane_cost=5000\n",
        "total_people_signed_up=29\n",
        "ticket_cost=200\n",
        "amount_received_by_company=total_people_signed_up*ticket_cost\n",
        "print(amount_received_by_company)\n",
        "total_profit=amount_received_by_company-plane_cost\n",
        "print(total_profit)"
      ],
      "metadata": {
        "colab": {
          "base_uri": "https://localhost:8080/"
        },
        "id": "cjB5CacPbj_O",
        "outputId": "bc2de857-a621-41aa-d9ad-982c64e1f932"
      },
      "execution_count": null,
      "outputs": [
        {
          "output_type": "stream",
          "name": "stdout",
          "text": [
            "5800\n",
            "800\n"
          ]
        }
      ]
    },
    {
      "cell_type": "markdown",
      "source": [
        "Write a program to prompt for a score between 0.0 and 1.0. If the score is out of range, print an error. If the score is between 0.0 and 1.0, print a grade using the following table:\n",
        "Score Grade\n",
        "\n",
        "$>= 0.9 A$\n",
        "\n",
        "$>= 0.8 B$\n",
        "\n",
        "$>= 0.7 C$\n",
        "\n",
        "$>= 0.6 D$\n",
        "\n",
        "$< 0.6 F$\n",
        "\n",
        "If the user enters a value out of range, print a suitable error message and exit. For the test, enter a score of 0.85.\n"
      ],
      "metadata": {
        "id": "AZf1ICfcvix9"
      }
    },
    {
      "cell_type": "code",
      "source": [
        "try:\n",
        "    number = float(8.5)\n",
        "except:\n",
        "    number = -1\n",
        "\n",
        "if number >= 0.9:\n",
        "    print(\"A\")\n",
        "elif number >= 0.8:\n",
        "    print(\"B\")\n",
        "elif number >= 0.7:\n",
        "    print(\"C\")\n",
        "elif number >= 0.6:\n",
        "    print(\"D\")\n",
        "elif number < 0.6:\n",
        "    print(\"F\")\n",
        "else:\n",
        "    print(\"Error!\")\n",
        "    quit()\n"
      ],
      "metadata": {
        "colab": {
          "base_uri": "https://localhost:8080/"
        },
        "id": "DE73gus1vxaw",
        "outputId": "485d9fba-0706-4098-99ff-134a9725477d"
      },
      "execution_count": 4,
      "outputs": [
        {
          "output_type": "stream",
          "name": "stdout",
          "text": [
            "A\n"
          ]
        }
      ]
    },
    {
      "cell_type": "markdown",
      "source": [
        "Radha is planning to buy a house that costs $1,260,000.\n",
        "\n",
        "She considering two options to finance her purchase:\n",
        "\n",
        "Option 1: Make an immediate down payment of $300,000, and take loan 8-year loan with an interest rate of 10% (compounded monthly) for the remaining amount.\n",
        "\n",
        "Option 2: Take a 10-year loan with an interest rate of 8% (compounded monthly) for the entire amount.\n",
        "\n",
        "Both these loans have to be paid back in equal monthly installments (EMIs). Which loan has a lower EMI among the two?\n",
        "\n"
      ],
      "metadata": {
        "id": "sBaVjS5tcfxz"
      }
    },
    {
      "cell_type": "markdown",
      "source": [
        "Formula used to calculate the EMI for a loan\n",
        "\n",
        "\n",
        "$EMI=\\frac{P X r X (1+r)^n}{(1+r)^n - 1}$\n",
        "where:\n",
        "* P is the loan amount (principal)\n",
        "* n is the no. of months\n",
        "* r is the rate of interest per month\n",
        "\n"
      ],
      "metadata": {
        "id": "uDqV_V_Nnq2I"
      }
    },
    {
      "cell_type": "code",
      "source": [
        "def calculate_emi(principal, annual_interest_rate, tenure_years):\n",
        "    # Convert annual interest rate to monthly and then to decimal\n",
        "    monthly_interest_rate = (annual_interest_rate / 12) / 100\n",
        "\n",
        "    # Convert tenure from years to months\n",
        "    tenure_months = tenure_years * 12\n",
        "\n",
        "    # Calculate EMI using the formula\n",
        "    emi = principal * (monthly_interest_rate * (1 + monthly_interest_rate)**tenure_months) / ((1 + monthly_interest_rate)**tenure_months - 1)\n",
        "\n",
        "    return emi\n",
        "\n",
        "# Option 1\n",
        "principal_option1 = 1260000 - 300000  # Remaining amount after down payment\n",
        "interest_rate_option1 = 10\n",
        "tenure_option1 = 8\n",
        "\n",
        "emi_option1 = calculate_emi(principal_option1, interest_rate_option1, tenure_option1)\n",
        "\n",
        "# Option 2\n",
        "principal_option2 = 1260000\n",
        "interest_rate_option2 = 8\n",
        "tenure_option2 = 10\n",
        "\n",
        "emi_option2 = calculate_emi(principal_option2, interest_rate_option2, tenure_option2)\n",
        "\n",
        "# Compare EMIs\n",
        "if emi_option1 < emi_option2:\n",
        "    print(\"Option 1 has a lower EMI.\")\n",
        "    print(f\"EMI for Option 1: ${emi_option1:.2f}\")\n",
        "    print(f\"EMI for Option 2: ${emi_option2:.2f}\")\n",
        "else:\n",
        "    print(\"Option 2 has a lower EMI.\")\n",
        "    print(f\"EMI for Option 1: ${emi_option1:.2f}\")\n",
        "    print(f\"EMI for Option 2: ${emi_option2:.2f}\")"
      ],
      "metadata": {
        "id": "uDwYLejAt-1s",
        "outputId": "4cc49d1b-5b40-46e5-d0c1-45ce111c97b2",
        "colab": {
          "base_uri": "https://localhost:8080/"
        }
      },
      "execution_count": 5,
      "outputs": [
        {
          "output_type": "stream",
          "name": "stdout",
          "text": [
            "Option 1 has a lower EMI.\n",
            "EMI for Option 1: $14567.20\n",
            "EMI for Option 2: $15287.28\n"
          ]
        }
      ]
    }
  ]
}