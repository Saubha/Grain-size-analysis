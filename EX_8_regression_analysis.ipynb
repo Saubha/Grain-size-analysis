{
  "nbformat": 4,
  "nbformat_minor": 0,
  "metadata": {
    "colab": {
      "provenance": [],
      "authorship_tag": "ABX9TyMGbxsIhMhlq8j9l+Kf5fzi",
      "include_colab_link": true
    },
    "kernelspec": {
      "name": "python3",
      "display_name": "Python 3"
    },
    "language_info": {
      "name": "python"
    }
  },
  "cells": [
    {
      "cell_type": "markdown",
      "metadata": {
        "id": "view-in-github",
        "colab_type": "text"
      },
      "source": [
        "<a href=\"https://colab.research.google.com/github/Saubha/Grain-size-analysis/blob/main/EX_8_regression_analysis.ipynb\" target=\"_parent\"><img src=\"https://colab.research.google.com/assets/colab-badge.svg\" alt=\"Open In Colab\"/></a>"
      ]
    },
    {
      "cell_type": "markdown",
      "source": [
        "Experiment - 8\n",
        "Aim: To understand Basic of Linear and Polynomial Regression\n",
        "\n",
        "Objective: Practice code – Student will learn mean, median, mode, standard deviation, percentile, data distribution and regression analysis\n",
        "\n",
        "Input/Apparatus Used: Python computer program\n",
        "\n",
        "Procedure/Algorithm/Code:"
      ],
      "metadata": {
        "id": "4nCyZ2jknStq"
      }
    },
    {
      "cell_type": "markdown",
      "source": [
        "## Machine Learning\n",
        "Machine Learning is making the computer learn from studying data and statistics.\n",
        "\n",
        "Machine Learning is a step into the direction of artificial intelligence (AI).\n",
        "\n",
        "Machine Learning is a program that analyses data and learns to predict the outcome."
      ],
      "metadata": {
        "id": "pg9VHk5on0Gd"
      }
    },
    {
      "cell_type": "markdown",
      "source": [
        "### Data Set\n",
        "In the mind of a computer, a data set is any collection of data. It can be anything from an array to a complete database.\n",
        "\n",
        "Example of an array:\n",
        "[99,86,87,88,111,86,103,87,94,78,77,85,86]\n",
        "\n",
        "Example of a database:\n",
        "\n",
        "Carname |\tColor |\tAge |\tSpeed |\tAutoPass\n",
        "--- | --- | --- | --- | ---\n",
        "BMW\t| red\t| 5\t| 99\t| Y\n",
        "Volvo |\tblack |\t7 |\t86 |\tY\n",
        "VW |\tgray |\t8 |\t87 |\tN"
      ],
      "metadata": {
        "id": "0UiUW1GYoLlG"
      }
    },
    {
      "cell_type": "markdown",
      "source": [
        "### Data Types\n",
        "To analyze data, it is important to know what type of data we are dealing with.\n",
        "\n",
        "We can split the data types into three main categories:\n",
        "\n",
        "* **Numerical**\n",
        "* **Categorical**\n",
        "* **Ordinal**\n",
        "\n",
        "**Numerical** data are numbers, and can be split into two numerical categories:\n",
        "\n",
        "* Discrete Data\n",
        "  - counted data that are limited to integers. Example: The number of cars passing by.\n",
        "* Continuous Data\n",
        "  - measured data that can be any number. Example: The price of an item, or the size of an item\n",
        "\n",
        "**Categorical** data are values that cannot be measured up against each other. Example: a color value, or any yes/no values.\n",
        "\n",
        "**Ordinal** data are like categorical data, but can be measured up against each other. Example: school grades where A is better than B and so on."
      ],
      "metadata": {
        "id": "b7_oeBSupTn1"
      }
    },
    {
      "cell_type": "markdown",
      "source": [
        "### Mean\n",
        "The mean value is the average value.\n",
        "\n",
        "To calculate the mean, find the sum of all values, and divide the sum by the number of values:\n",
        "\n",
        "(99+86+87+88+111+86+103+87+94+78+77+85+86) / 13 = 89.77"
      ],
      "metadata": {
        "id": "QH7Cckboq1Tl"
      }
    },
    {
      "cell_type": "code",
      "source": [
        "#Use the NumPy mean() method to find the average speed:\n",
        "\n",
        "import numpy\n",
        "\n",
        "speed = [99,86,87,88,111,86,103,87,94,78,77,85,86]\n",
        "\n",
        "x = numpy.mean(speed)\n",
        "\n",
        "print(x)"
      ],
      "metadata": {
        "colab": {
          "base_uri": "https://localhost:8080/"
        },
        "id": "t9xnbt2CnzB2",
        "outputId": "532b2c34-57a7-4467-bb85-df812bcc606a"
      },
      "execution_count": null,
      "outputs": [
        {
          "output_type": "stream",
          "name": "stdout",
          "text": [
            "89.76923076923077\n"
          ]
        }
      ]
    },
    {
      "cell_type": "markdown",
      "source": [
        "### Median\n",
        "The median value is the value in the middle, after you have sorted all the values:\n",
        "\n",
        "77, 78, 85, 86, 86, 86, **87**, 87, 88, 94, 99, 103, 111"
      ],
      "metadata": {
        "id": "mcrUwf6qq92k"
      }
    },
    {
      "cell_type": "code",
      "source": [
        "#Use the NumPy median() method to find the middle value:\n",
        "\n",
        "import numpy\n",
        "\n",
        "speed = [99,86,87,88,111,86,103,87,94,78,77,85,86]\n",
        "\n",
        "x = numpy.median(speed)\n",
        "\n",
        "print(x)"
      ],
      "metadata": {
        "colab": {
          "base_uri": "https://localhost:8080/"
        },
        "id": "XGzLeoscrB0N",
        "outputId": "fe2547bb-d7f9-4f8d-addf-ab560a40fa22"
      },
      "execution_count": null,
      "outputs": [
        {
          "output_type": "stream",
          "name": "stdout",
          "text": [
            "87.0\n"
          ]
        }
      ]
    },
    {
      "cell_type": "markdown",
      "source": [
        "### Mode\n",
        "The Mode value is the value that appears the most number of times:\n",
        "\n",
        "99, **86**, 87, 88, 111, **86**, 103, 87, 94, 78, 77, 85, **86** = 86"
      ],
      "metadata": {
        "id": "U67WPsH3re2T"
      }
    },
    {
      "cell_type": "code",
      "source": [
        "#Use the SciPy mode() method to find the number that appears the most:\n",
        "\n",
        "from scipy import stats\n",
        "\n",
        "speed = [99,86,87,88,111,86,103,87,94,78,77,85,86]\n",
        "\n",
        "x = stats.mode(speed)\n",
        "\n",
        "print(x)"
      ],
      "metadata": {
        "colab": {
          "base_uri": "https://localhost:8080/"
        },
        "id": "rZC8wkfori_m",
        "outputId": "5512610a-f237-4b96-c2a6-ef8d9a03d8d5"
      },
      "execution_count": null,
      "outputs": [
        {
          "output_type": "stream",
          "name": "stdout",
          "text": [
            "ModeResult(mode=86, count=3)\n"
          ]
        }
      ]
    },
    {
      "cell_type": "markdown",
      "source": [
        "### What is Standard Deviation?\n",
        "Standard deviation is a number that describes how spread out the values are.\n",
        "\n",
        "A low standard deviation means that most of the numbers are close to the mean (average) value.\n",
        "\n",
        "A high standard deviation means that the values are spread out over a wider range."
      ],
      "metadata": {
        "id": "Gbo0AViBybMl"
      }
    },
    {
      "cell_type": "code",
      "source": [
        "#Use the NumPy std() method to find the standard deviation:\n",
        "\n",
        "import numpy\n",
        "\n",
        "speed = [86,87,88,86,87,85,86]\n",
        "\n",
        "x = numpy.std(speed)\n",
        "\n",
        "print(x)"
      ],
      "metadata": {
        "colab": {
          "base_uri": "https://localhost:8080/"
        },
        "id": "hEqJu5P4ysey",
        "outputId": "818d8752-b6ec-4688-976f-68c107efca25"
      },
      "execution_count": null,
      "outputs": [
        {
          "output_type": "stream",
          "name": "stdout",
          "text": [
            "0.9035079029052513\n"
          ]
        }
      ]
    },
    {
      "cell_type": "code",
      "source": [
        "import numpy\n",
        "\n",
        "speed = [32,111,138,28,59,77,97]\n",
        "\n",
        "x = numpy.std(speed)\n",
        "\n",
        "print(x)"
      ],
      "metadata": {
        "colab": {
          "base_uri": "https://localhost:8080/"
        },
        "id": "DCcTC46G07oX",
        "outputId": "ef9f2a11-ab84-4a0d-9db2-9a6973aa00a5"
      },
      "execution_count": null,
      "outputs": [
        {
          "output_type": "stream",
          "name": "stdout",
          "text": [
            "37.84501153334721\n"
          ]
        }
      ]
    },
    {
      "cell_type": "markdown",
      "source": [
        "### Variance\n",
        "Variance is another number that indicates how spread out the values are.\n",
        "\n",
        "In fact, if you take the square root of the variance, you get the standard deviation!\n",
        "\n",
        "Or the other way around, if you multiply the standard deviation by itself, you get the variance!\n",
        "1. Find the mean:\n",
        "\n",
        "(32+111+138+28+59+77+97) / 7 = 77.4\n",
        "2. For each value: find the difference from the mean:\n",
        "\n",
        "32 - 77.4 = -45.4\n",
        "\n",
        "111 - 77.4 =  33.6\n",
        "\n",
        "138 - 77.4 =  60.6\n",
        "\n",
        " 28 - 77.4 = -49.4\n",
        "\n",
        " 59 - 77.4 = -18.4\n",
        "\n",
        " 77 - 77.4 = - 0.4\n",
        "\n",
        " 97 - 77.4 =  19.6\n",
        " 3. For each difference: find the square value:\n",
        "\n",
        "(-45.4)2 = 2061.16\n",
        "\n",
        " (33.6)2 = 1128.96\n",
        "\n",
        " (60.6)2 = 3672.36\n",
        "\n",
        "(-49.4)2 = 2440.36\n",
        "\n",
        "(-18.4)2 =  338.56\n",
        "\n",
        "(- 0.4)2 =    0.16\n",
        "\n",
        " (19.6)2 =  384.16\n",
        "4. The variance is the average number of these squared differences:\n",
        "\n",
        "(2061.16+1128.96+3672.36+2440.36+338.56+0.16+384.16) / 7 = 1432.2"
      ],
      "metadata": {
        "id": "a7hkgNlW1Vvp"
      }
    },
    {
      "cell_type": "code",
      "source": [
        "#Use the NumPy var() method to find the variance:\n",
        "\n",
        "import numpy\n",
        "\n",
        "speed = [32,111,138,28,59,77,97]\n",
        "\n",
        "x = numpy.var(speed)\n",
        "\n",
        "print(x)"
      ],
      "metadata": {
        "colab": {
          "base_uri": "https://localhost:8080/"
        },
        "id": "5zIcD53G11_p",
        "outputId": "b06befb1-4db6-407a-f2a9-780783d41b6d"
      },
      "execution_count": null,
      "outputs": [
        {
          "output_type": "stream",
          "name": "stdout",
          "text": [
            "1432.2448979591834\n"
          ]
        }
      ]
    },
    {
      "cell_type": "markdown",
      "source": [
        "### Standard Deviation\n",
        "As we have learned, the formula to find the standard deviation is the square root of the variance:\n",
        "\n",
        "√1432.25 = 37.85"
      ],
      "metadata": {
        "id": "fsxhtAvc1_7G"
      }
    },
    {
      "cell_type": "code",
      "source": [
        "#Use the NumPy std() method to find the standard deviation:\n",
        "\n",
        "import numpy\n",
        "\n",
        "speed = [32,111,138,28,59,77,97]\n",
        "\n",
        "x = numpy.std(speed)\n",
        "\n",
        "print(x)"
      ],
      "metadata": {
        "colab": {
          "base_uri": "https://localhost:8080/"
        },
        "id": "0D2eCbZ82Edz",
        "outputId": "8f6f44a8-7cd4-4287-a4c6-beb2d4a7b4b5"
      },
      "execution_count": null,
      "outputs": [
        {
          "output_type": "stream",
          "name": "stdout",
          "text": [
            "37.84501153334721\n"
          ]
        }
      ]
    },
    {
      "cell_type": "markdown",
      "source": [
        "### [What are Percentiles?](https://www.simplilearn.com/tutorials/data-analytics-tutorial/percentile-in-statistics)\n",
        "Percentiles are used in statistics to give you a number that describes the value that a given percent of the values are lower than.\n",
        "\n",
        "Example: Let's say we have an array of the ages of all the people that live in a street.\n",
        "\n",
        "ages = [5,31,43,48,50,41,7,11,15,39,80,82,32,2,8,6,25,36,27,61,31]\n",
        "\n",
        "What is the 75. percentile? The answer is 43, meaning that 75% of the people are 43 or younger."
      ],
      "metadata": {
        "id": "lX-dsfcp51UO"
      }
    },
    {
      "cell_type": "code",
      "source": [
        "#Use the NumPy percentile() method to find the percentiles:\n",
        "\n",
        "import numpy\n",
        "\n",
        "ages = [5,31,43,48,50,41,7,11,15,39,80,82,32,2,8,6,25,36,27,61,31]\n",
        "\n",
        "x = numpy.percentile(ages, 75)\n",
        "\n",
        "print(x)"
      ],
      "metadata": {
        "colab": {
          "base_uri": "https://localhost:8080/"
        },
        "id": "NCoe4TbB6FbD",
        "outputId": "50bb72cc-28f2-4132-9975-b51a687622c4"
      },
      "execution_count": null,
      "outputs": [
        {
          "output_type": "stream",
          "name": "stdout",
          "text": [
            "43.0\n"
          ]
        }
      ]
    },
    {
      "cell_type": "code",
      "source": [
        "#What is the age that 90% of the people are younger than?\n",
        "\n",
        "import numpy\n",
        "\n",
        "ages = [5,31,43,48,50,41,7,11,15,39,80,82,32,2,8,6,25,36,27,61,31]\n",
        "\n",
        "x = numpy.percentile(ages, 90)\n",
        "\n",
        "print(x)"
      ],
      "metadata": {
        "colab": {
          "base_uri": "https://localhost:8080/"
        },
        "id": "q3RD7Q4W6ORI",
        "outputId": "e1cab188-e63a-421b-a399-e5cb1eb48f6a"
      },
      "execution_count": null,
      "outputs": [
        {
          "output_type": "stream",
          "name": "stdout",
          "text": [
            "61.0\n"
          ]
        }
      ]
    },
    {
      "cell_type": "markdown",
      "source": [
        "### How Can we Get Big Data Sets?\n",
        "To create big data sets for testing, we use the Python module NumPy, which comes with a number of methods to create random data sets, of any size."
      ],
      "metadata": {
        "id": "p6urBwAsZpRP"
      }
    },
    {
      "cell_type": "code",
      "source": [
        "#Create an array containing 250 random floats between 0 and 5:\n",
        "\n",
        "import numpy\n",
        "\n",
        "x = numpy.random.uniform(0.0, 5.0, 250)\n",
        "\n",
        "print(x)"
      ],
      "metadata": {
        "colab": {
          "base_uri": "https://localhost:8080/"
        },
        "id": "MR24EaBqZrQo",
        "outputId": "cec7cc48-d3ac-4f92-e045-a3a56f846732"
      },
      "execution_count": null,
      "outputs": [
        {
          "output_type": "stream",
          "name": "stdout",
          "text": [
            "[1.62167013e+00 1.47843647e+00 4.32692702e+00 3.79324519e-01\n",
            " 2.08780230e+00 2.01411638e+00 2.15789872e+00 7.81274963e-01\n",
            " 6.75438310e-01 1.61848252e+00 4.43851983e+00 3.62734130e+00\n",
            " 4.26892502e+00 1.66117299e+00 5.11845800e-01 4.46088273e+00\n",
            " 2.77388137e+00 1.66596334e+00 4.31776227e-02 2.34108869e+00\n",
            " 4.14769793e+00 2.06239922e+00 1.09398627e+00 4.54147862e+00\n",
            " 3.81394014e+00 1.36377908e+00 1.50088413e+00 1.02375340e+00\n",
            " 4.67687291e+00 4.57111110e-01 3.78174306e+00 2.04219075e+00\n",
            " 4.24941761e+00 4.19382621e+00 2.19791560e+00 2.39246754e+00\n",
            " 3.68201700e+00 2.69356851e+00 1.12351604e-01 2.85746846e+00\n",
            " 4.94412309e+00 2.91232235e+00 6.83176176e-01 4.70377538e+00\n",
            " 4.11860239e+00 2.38916051e+00 1.82420166e+00 4.57675608e-01\n",
            " 6.20625088e-01 4.93599818e+00 1.55506748e+00 1.84321309e+00\n",
            " 4.54780207e+00 4.54494453e+00 3.34364477e-01 4.69616074e+00\n",
            " 3.64314624e+00 3.08841921e+00 2.07738845e+00 4.54969180e+00\n",
            " 1.35412310e+00 3.37167170e+00 3.51455376e+00 1.50107235e+00\n",
            " 3.56171070e+00 4.87360444e+00 4.68203093e+00 3.67027394e+00\n",
            " 3.02052064e+00 3.96447687e+00 1.30245478e+00 3.99721932e+00\n",
            " 1.35952790e+00 5.59035343e-01 2.13048002e+00 3.09893773e+00\n",
            " 2.83967036e+00 2.38218361e+00 4.89374005e+00 3.65199633e+00\n",
            " 1.00611905e+00 4.20301547e-01 9.64755859e-01 8.50477769e-01\n",
            " 3.63332913e+00 3.46574351e+00 2.73590809e+00 4.50560568e-02\n",
            " 1.02322359e+00 2.46902506e+00 4.04469068e-01 1.17053350e+00\n",
            " 4.93753598e+00 4.62737173e-01 8.20429265e-01 4.28782524e+00\n",
            " 4.37712807e+00 4.14403766e+00 9.17718395e-01 4.82852746e+00\n",
            " 4.81864359e+00 1.46153772e+00 4.22831671e+00 4.06948963e+00\n",
            " 3.80939713e+00 4.49349499e+00 3.67623751e+00 7.39781453e-01\n",
            " 3.50613981e+00 4.22773050e-02 4.56656518e+00 3.62709675e+00\n",
            " 1.75752015e+00 4.98158870e+00 8.37245119e-01 1.00838081e+00\n",
            " 1.09892226e-02 3.61991456e+00 2.34995385e+00 6.47777073e-01\n",
            " 2.26301711e+00 2.27345186e+00 2.78753229e+00 1.50667992e+00\n",
            " 1.58005062e+00 4.87125331e+00 3.12739027e+00 4.50901847e+00\n",
            " 4.99793132e+00 4.12970651e+00 1.48742751e+00 1.08217490e+00\n",
            " 2.95421443e+00 9.85227182e-01 3.42496469e+00 2.12928718e+00\n",
            " 3.57913206e+00 1.10348779e+00 6.91012162e-01 2.34522830e+00\n",
            " 4.88711409e+00 1.93111231e-01 4.11426435e+00 2.73503545e-01\n",
            " 4.42937468e+00 3.03081966e+00 1.84760003e+00 2.18864300e+00\n",
            " 2.31412405e+00 4.72244032e+00 3.83151001e+00 7.53893491e-01\n",
            " 4.78544385e+00 3.31641208e+00 1.22241557e+00 4.61813112e+00\n",
            " 3.13617568e+00 1.85031376e+00 1.99573511e+00 3.56944869e+00\n",
            " 2.22646288e+00 2.38858217e+00 1.83127701e-01 8.68177921e-01\n",
            " 1.37772572e+00 3.26510523e+00 4.90263011e+00 3.55307459e+00\n",
            " 4.66070181e+00 2.24497671e+00 4.17425212e+00 2.86433341e+00\n",
            " 1.64677048e-01 3.27556781e+00 4.27860095e+00 3.61286673e+00\n",
            " 9.51970010e-01 4.45394650e+00 1.89863791e+00 1.40451070e+00\n",
            " 2.79461169e+00 4.17751212e+00 3.77779420e+00 2.77731607e+00\n",
            " 3.73590864e+00 1.56342745e+00 3.29664295e+00 3.99434680e+00\n",
            " 1.72525301e+00 1.50759766e+00 8.84073968e-01 4.89020120e+00\n",
            " 3.55516967e+00 2.21163144e+00 9.65769399e-01 1.61043743e+00\n",
            " 4.98546014e-01 3.33551339e+00 2.93150955e+00 3.32925759e+00\n",
            " 3.90786756e+00 3.33600302e+00 4.38216815e+00 4.50193870e+00\n",
            " 2.02753629e+00 4.44255987e-01 7.34026548e-01 4.98395763e+00\n",
            " 1.66973599e+00 1.90889528e+00 8.25627518e-01 3.15619907e+00\n",
            " 3.88173441e+00 3.95855976e+00 4.13766678e+00 9.58987352e-01\n",
            " 3.81900534e+00 3.03846381e+00 4.70773521e+00 4.63934093e+00\n",
            " 7.97159134e-02 1.49871508e+00 1.97985905e+00 4.22526878e+00\n",
            " 4.78075409e+00 4.27963758e+00 4.98051361e+00 2.47996618e+00\n",
            " 2.80693510e+00 8.61859372e-01 1.92147157e+00 2.38350361e+00\n",
            " 7.37563552e-01 4.68412183e+00 1.08796176e+00 1.02030508e+00\n",
            " 6.32699330e-02 6.10315743e-01 4.73584164e+00 1.51496334e-01\n",
            " 2.17230383e+00 2.91193662e+00 2.57946620e+00 1.37610649e-03\n",
            " 3.25710793e-01 4.07425020e+00 1.00502589e+00 1.15135156e+00\n",
            " 2.72336815e+00 1.28527342e+00]\n"
          ]
        }
      ]
    },
    {
      "cell_type": "code",
      "source": [
        "#Draw a histogram:\n",
        "\n",
        "import numpy\n",
        "import matplotlib.pyplot as plt\n",
        "\n",
        "x = numpy.random.uniform(0.0, 5.0, 250)\n",
        "\n",
        "plt.hist(x, 5)\n",
        "plt.show()"
      ],
      "metadata": {
        "colab": {
          "base_uri": "https://localhost:8080/",
          "height": 430
        },
        "id": "TdhNqvCjZ15f",
        "outputId": "2ed38855-eb35-4707-8eed-ba4d4be0a1fd"
      },
      "execution_count": null,
      "outputs": [
        {
          "output_type": "display_data",
          "data": {
            "text/plain": [
              "<Figure size 640x480 with 1 Axes>"
            ],
            "image/png": "[encoded data removed]"
          },
          "metadata": {}
        }
      ]
    },
    {
      "cell_type": "code",
      "source": [
        "#Create an array with 100000 random numbers, and display them using a histogram with 100 bars:\n",
        "\n",
        "import numpy\n",
        "import matplotlib.pyplot as plt\n",
        "\n",
        "x = numpy.random.uniform(0.0, 5.0, 100000)\n",
        "\n",
        "plt.hist(x, 100)\n",
        "plt.show()"
      ],
      "metadata": {
        "colab": {
          "base_uri": "https://localhost:8080/",
          "height": 430
        },
        "id": "hDX3GZwiZ-A_",
        "outputId": "769f953e-7bf0-4e94-ec99-47bf25320759"
      },
      "execution_count": null,
      "outputs": [
        {
          "output_type": "display_data",
          "data": {
            "text/plain": [
              "<Figure size 640x480 with 1 Axes>"
            ],
            "image/png": "[encoded data removed]"
          },
          "metadata": {}
        }
      ]
    },
    {
      "cell_type": "markdown",
      "source": [
        "Normal Data Distribution\n"
      ],
      "metadata": {
        "id": "ocVWfn-pamET"
      }
    },
    {
      "cell_type": "code",
      "source": [
        "#A typical normal data distribution:\n",
        "\n",
        "import numpy\n",
        "import matplotlib.pyplot as plt\n",
        "\n",
        "x = numpy.random.normal(5.0, 1.0, 100000)\n",
        "\n",
        "plt.hist(x, 100)\n",
        "plt.show()"
      ],
      "metadata": {
        "colab": {
          "base_uri": "https://localhost:8080/",
          "height": 430
        },
        "id": "nCW0iPDKa8DM",
        "outputId": "15cc0b0a-2628-4158-d6a8-6e65f2f330dd"
      },
      "execution_count": null,
      "outputs": [
        {
          "output_type": "display_data",
          "data": {
            "text/plain": [
              "<Figure size 640x480 with 1 Axes>"
            ],
            "image/png": "[encoded data removed]"
          },
          "metadata": {}
        }
      ]
    },
    {
      "cell_type": "markdown",
      "source": [
        "### Regression\n",
        "The term regression is used when you try to find the relationship between variables.\n",
        "\n",
        "In Machine Learning, and in statistical modeling, that relationship is used to predict the outcome of future events.\n",
        "\n",
        "### Linear Regression\n",
        "Linear regression uses the relationship between the data-points to draw a straight line through all them.\n",
        "\n",
        "This line can be used to predict future values.\n",
        "### How Does it Work?\n",
        "Python has methods for finding a relationship between data-points and to draw a line of linear regression. We will show you how to use these methods instead of going through the mathematic formula."
      ],
      "metadata": {
        "id": "vRHOR9NvbhVW"
      }
    },
    {
      "cell_type": "code",
      "source": [
        "#Start by drawing a scatter plot:\n",
        "\n",
        "import matplotlib.pyplot as plt\n",
        "\n",
        "x = [5,7,8,7,2,17,2,9,4,11,12,9,6]\n",
        "y = [99,86,87,88,111,86,103,87,94,78,77,85,86]\n",
        "\n",
        "plt.scatter(x, y)\n",
        "plt.show()"
      ],
      "metadata": {
        "colab": {
          "base_uri": "https://localhost:8080/",
          "height": 430
        },
        "id": "uxBDQTUqcG4a",
        "outputId": "d4891a7d-f971-41c9-eab4-60a175305cce"
      },
      "execution_count": null,
      "outputs": [
        {
          "output_type": "display_data",
          "data": {
            "text/plain": [
              "<Figure size 640x480 with 1 Axes>"
            ],
            "image/png": "[encoded data removed]"
          },
          "metadata": {}
        }
      ]
    },
    {
      "cell_type": "code",
      "source": [
        "#Import scipy and draw the line of Linear Regression:\n",
        "\n",
        "import matplotlib.pyplot as plt\n",
        "from scipy import stats\n",
        "#Create the arrays that represent the values of the x and y axis:\n",
        "x = [5,7,8,7,2,17,2,9,4,11,12,9,6]\n",
        "y = [99,86,87,88,111,86,103,87,94,78,77,85,86]\n",
        "#Execute a method that returns some important key values of Linear Regression:\n",
        "slope, intercept, r, p, std_err = stats.linregress(x, y)\n",
        "\n",
        "#Create a function that uses the slope and intercept values to return a new value.\n",
        "#This new value represents where on the y-axis the corresponding x value will be placed:'\"\n",
        "\n",
        "def myfunc(x):\n",
        "  return slope * x + intercept\n",
        "\n",
        "#Run each value of the x array through the function. This will result in a new array with new values for the y-axis:\n",
        "mymodel = list(map(myfunc, x))\n",
        "\n",
        "plt.scatter(x, y)\n",
        "plt.plot(x, mymodel)\n",
        "plt.show()"
      ],
      "metadata": {
        "colab": {
          "base_uri": "https://localhost:8080/",
          "height": 430
        },
        "id": "lOSqYLdxcTwu",
        "outputId": "945a21da-f154-42ab-eacd-fd5ca508cdd1"
      },
      "execution_count": null,
      "outputs": [
        {
          "output_type": "display_data",
          "data": {
            "text/plain": [
              "<Figure size 640x480 with 1 Axes>"
            ],
            "image/png": "[encoded data removed]"
          },
          "metadata": {}
        }
      ]
    },
    {
      "cell_type": "markdown",
      "source": [
        "### R for Relationship\n",
        "It is important to know how the relationship between the values of the x-axis and the values of the y-axis is, if there are no relationship the linear regression can not be used to predict anything.\n",
        "\n",
        "This relationship - the coefficient of correlation - is called r.\n",
        "\n",
        "The r value ranges from -1 to 1, where 0 means no relationship, and 1 (and -1) means 100% related."
      ],
      "metadata": {
        "id": "jV0opTZdf6Mr"
      }
    },
    {
      "cell_type": "code",
      "source": [
        "#How well does my data fit in a linear regression?\n",
        "\n",
        "from scipy import stats\n",
        "\n",
        "x = [5,7,8,7,2,17,2,9,4,11,12,9,6]\n",
        "y = [99,86,87,88,111,86,103,87,94,78,77,85,86]\n",
        "\n",
        "slope, intercept, r, p, std_err = stats.linregress(x, y)\n",
        "\n",
        "print(r)"
      ],
      "metadata": {
        "colab": {
          "base_uri": "https://localhost:8080/"
        },
        "id": "UiBgqwPRgT0a",
        "outputId": "e0b85b9e-1db9-4582-dc3e-37a855973af2"
      },
      "execution_count": null,
      "outputs": [
        {
          "output_type": "stream",
          "name": "stdout",
          "text": [
            "-0.758591524376155\n"
          ]
        }
      ]
    },
    {
      "cell_type": "code",
      "source": [
        "#Predict the speed of a 10 years old car:\n",
        "\n",
        "from scipy import stats\n",
        "\n",
        "x = [5,7,8,7,2,17,2,9,4,11,12,9,6]\n",
        "y = [99,86,87,88,111,86,103,87,94,78,77,85,86]\n",
        "\n",
        "slope, intercept, r, p, std_err = stats.linregress(x, y)\n",
        "\n",
        "def myfunc(x):\n",
        "  return slope * x + intercept\n",
        "\n",
        "speed = myfunc(10)\n",
        "\n",
        "print(speed)"
      ],
      "metadata": {
        "colab": {
          "base_uri": "https://localhost:8080/"
        },
        "id": "geHQhlUBgsk5",
        "outputId": "99ebec06-76a9-46b3-e35b-ee864942b1e7"
      },
      "execution_count": null,
      "outputs": [
        {
          "output_type": "stream",
          "name": "stdout",
          "text": [
            "85.59308314937454\n"
          ]
        }
      ]
    },
    {
      "cell_type": "markdown",
      "source": [
        "### Bad Fit?\n",
        "Let us create an example where linear regression would not be the best method to predict future values."
      ],
      "metadata": {
        "id": "NuUl1mcRg8jv"
      }
    },
    {
      "cell_type": "code",
      "source": [
        "#These values for the x- and y-axis should result in a very bad fit for linear regression:\n",
        "\n",
        "import matplotlib.pyplot as plt\n",
        "from scipy import stats\n",
        "\n",
        "x = [89,43,36,36,95,10,66,34,38,20,26,29,48,64,6,5,36,66,72,40]\n",
        "y = [21,46,3,35,67,95,53,72,58,10,26,34,90,33,38,20,56,2,47,15]\n",
        "\n",
        "slope, intercept, r, p, std_err = stats.linregress(x, y)\n",
        "\n",
        "def myfunc(x):\n",
        "  return slope * x + intercept\n",
        "\n",
        "mymodel = list(map(myfunc, x))\n",
        "\n",
        "plt.scatter(x, y)\n",
        "plt.plot(x, mymodel)\n",
        "plt.show()\n",
        "print(r)"
      ],
      "metadata": {
        "colab": {
          "base_uri": "https://localhost:8080/",
          "height": 447
        },
        "id": "8M3Bfv1whA8J",
        "outputId": "fdb1345e-fd3d-45e6-dad0-950c38700119"
      },
      "execution_count": null,
      "outputs": [
        {
          "output_type": "display_data",
          "data": {
            "text/plain": [
              "<Figure size 640x480 with 1 Axes>"
            ],
            "image/png": "[encoded data removed]"
          },
          "metadata": {}
        },
        {
          "output_type": "stream",
          "name": "stdout",
          "text": [
            "0.01331814154297491\n"
          ]
        }
      ]
    },
    {
      "cell_type": "markdown",
      "source": [
        "The result: 0.013 indicates a very bad relationship, and tells us that this data set is not suitable for linear regression."
      ],
      "metadata": {
        "id": "CPwrG2SNhMFl"
      }
    },
    {
      "cell_type": "markdown",
      "source": [
        "One common application of linear regression in earth science is predicting temperatures based on various environmental factors. Let's consider an example where we use linear regression to predict the average temperature based on the amount of carbon dioxide (CO2) in the atmosphere."
      ],
      "metadata": {
        "id": "exVWtWYJjF1d"
      }
    },
    {
      "cell_type": "code",
      "source": [
        "# Importing necessary libraries\n",
        "import numpy as np\n",
        "import pandas as pd\n",
        "import matplotlib.pyplot as plt\n",
        "from sklearn.model_selection import train_test_split\n",
        "from sklearn.linear_model import LinearRegression\n",
        "from sklearn.metrics import mean_squared_error\n",
        "\n",
        "# Generating synthetic data\n",
        "np.random.seed(0)\n",
        "num_samples = 100\n",
        "co2_levels = np.random.uniform(300, 500, num_samples)  # CO2 levels (ppm)\n",
        "# Generating temperatures based on a linear relationship with CO2 levels\n",
        "temperatures = 10 + 0.05 * co2_levels + np.random.normal(0, 2, num_samples)\n",
        "\n",
        "# Creating a DataFrame\n",
        "data = pd.DataFrame({'CO2': co2_levels, 'Temperature': temperatures})\n",
        "\n",
        "# Visualizing the data\n",
        "plt.scatter(co2_levels, temperatures, color='blue')\n",
        "plt.title('CO2 Levels vs Temperature')\n",
        "plt.xlabel('CO2 Levels (ppm)')\n",
        "plt.ylabel('Temperature (°C)')\n",
        "plt.show()\n",
        "\n",
        "# Splitting the data into training and testing sets\n",
        "X_train, X_test, y_train, y_test = train_test_split(data['CO2'].values.reshape(-1, 1), data['Temperature'], test_size=0.2, random_state=42)\n",
        "\n",
        "# Training the linear regression model\n",
        "model = LinearRegression()\n",
        "model.fit(X_train, y_train)\n",
        "\n",
        "# Making predictions on the test set\n",
        "y_pred = model.predict(X_test)\n",
        "\n",
        "# Visualizing the predictions\n",
        "plt.scatter(X_test, y_test, color='blue')\n",
        "plt.plot(X_test, y_pred, color='red', linewidth=2)\n",
        "plt.title('Linear Regression - CO2 Levels vs Temperature')\n",
        "plt.xlabel('CO2 Levels (ppm)')\n",
        "plt.ylabel('Temperature (°C)')\n",
        "plt.show()\n",
        "\n",
        "# Evaluating the model\n",
        "mse = mean_squared_error(y_test, y_pred)\n",
        "print('Mean Squared Error:', mse)"
      ],
      "metadata": {
        "colab": {
          "base_uri": "https://localhost:8080/",
          "height": 944
        },
        "id": "qyiOGYk6ifVN",
        "outputId": "1836ebd6-a533-4907-aa2d-49de0084a6a3"
      },
      "execution_count": null,
      "outputs": [
        {
          "output_type": "display_data",
          "data": {
            "text/plain": [
              "<Figure size 640x480 with 1 Axes>"
            ],
            "image/png": "[encoded data removed]"
          },
          "metadata": {}
        },
        {
          "output_type": "display_data",
          "data": {
            "text/plain": [
              "<Figure size 640x480 with 1 Axes>"
            ],
            "image/png": "[encoded data removed]"
          },
          "metadata": {}
        },
        {
          "output_type": "stream",
          "name": "stdout",
          "text": [
            "Mean Squared Error: 3.6710129878857183\n"
          ]
        }
      ]
    },
    {
      "cell_type": "markdown",
      "source": [
        "* We generate synthetic data representing CO2 levels and temperatures.\n",
        "* We visualize the relationship between CO2 levels and temperatures using a scatter plot.\n",
        "* We split the data into training and testing sets.\n",
        "* We train a linear regression model using the training data.\n",
        "* We make predictions on the test data and visualize the results.\n",
        "* Finally, we evaluate the model's performance using mean squared error.\n",
        "\n",
        "This example demonstrates a basic linear regression model applied to predict temperatures based on CO2 levels in the atmosphere, which is a simplified representation of a real-world scenario in earth science."
      ],
      "metadata": {
        "id": "k3Qgn5JSiu_2"
      }
    },
    {
      "cell_type": "markdown",
      "source": [
        "### Polynomial Regression\n",
        "If your data points clearly will not fit a linear regression (a straight line through all data points), it might be ideal for polynomial regression.\n",
        "\n",
        "Polynomial regression, like linear regression, uses the relationship between the variables x and y to find the best way to draw a line through the data points.\n",
        "###How Does it Work?\n",
        "Python has methods for finding a relationship between data-points and to draw a line of polynomial regression. We will show you how to use these methods instead of going through the mathematic formula.\n",
        "\n",
        "In the example below, we have registered 18 cars as they were passing a certain tollbooth.\n",
        "\n",
        "We have registered the car's speed, and the time of day (hour) the passing occurred.\n",
        "\n",
        "The x-axis represents the hours of the day and the y-axis represents the speed:"
      ],
      "metadata": {
        "id": "BpXWOg32jLHY"
      }
    },
    {
      "cell_type": "code",
      "source": [
        "#Start by drawing a scatter plot:\n",
        "\n",
        "import matplotlib.pyplot as plt\n",
        "\n",
        "x = [1,2,3,5,6,7,8,9,10,12,13,14,15,16,18,19,21,22]\n",
        "y = [100,90,80,60,60,55,60,65,70,70,75,76,78,79,90,99,99,100]\n",
        "\n",
        "plt.scatter(x, y)\n",
        "plt.show()"
      ],
      "metadata": {
        "colab": {
          "base_uri": "https://localhost:8080/",
          "height": 430
        },
        "id": "4JerwwyzlTJa",
        "outputId": "e305eada-7910-4f55-ee18-04038a09f73a"
      },
      "execution_count": null,
      "outputs": [
        {
          "output_type": "display_data",
          "data": {
            "text/plain": [
              "<Figure size 640x480 with 1 Axes>"
            ],
            "image/png": "[encoded data removed]"
          },
          "metadata": {}
        }
      ]
    },
    {
      "cell_type": "code",
      "source": [
        "import numpy\n",
        "import matplotlib.pyplot as plt\n",
        "from sklearn.metrics import r2_score\n",
        "\n",
        "x = [1,2,3,5,6,7,8,9,10,12,13,14,15,16,18,19,21,22]\n",
        "y = [100,90,80,60,60,55,60,65,70,70,75,76,78,79,90,99,99,100]\n",
        "\n",
        "# NumPy has a method that lets us make a polynomial model:\n",
        "mymodel = numpy.poly1d(numpy.polyfit(x, y, 3))\n",
        "# Then specify how the line will display, we start at position 1, and end at position 22:\n",
        "myline = numpy.linspace(1, 22, 100)\n",
        "# Draw the original scatter plot:\n",
        "plt.scatter(x, y)\n",
        "# Draw the line of polynomial regression:\n",
        "plt.plot(myline, mymodel(myline))\n",
        "# Display the diagram:\n",
        "plt.show()\n",
        "#How well does my data fit in a polynomial regression?\n",
        "print(r2_score(y, mymodel(x)))"
      ],
      "metadata": {
        "colab": {
          "base_uri": "https://localhost:8080/",
          "height": 447
        },
        "id": "Ct7NhuVOlffi",
        "outputId": "535e73ad-7a5a-4e9b-92ed-cfddfbd25070"
      },
      "execution_count": null,
      "outputs": [
        {
          "output_type": "display_data",
          "data": {
            "text/plain": [
              "<Figure size 640x480 with 1 Axes>"
            ],
            "image/png": "[encoded data removed]"
          },
          "metadata": {}
        },
        {
          "output_type": "stream",
          "name": "stdout",
          "text": [
            "0.9432150416451026\n"
          ]
        }
      ]
    },
    {
      "cell_type": "code",
      "source": [
        "#Predict the speed of a car passing at 17:00:\n",
        "\n",
        "import numpy\n",
        "from sklearn.metrics import r2_score\n",
        "\n",
        "x = [1,2,3,5,6,7,8,9,10,12,13,14,15,16,18,19,21,22]\n",
        "y = [100,90,80,60,60,55,60,65,70,70,75,76,78,79,90,99,99,100]\n",
        "\n",
        "mymodel = numpy.poly1d(numpy.polyfit(x, y, 3))\n",
        "\n",
        "speed = mymodel(17)\n",
        "print(speed)"
      ],
      "metadata": {
        "id": "HeBP_XMYna5q",
        "outputId": "f37a824c-d7e0-4347-aa5a-15079bfd089b",
        "colab": {
          "base_uri": "https://localhost:8080/"
        }
      },
      "execution_count": null,
      "outputs": [
        {
          "output_type": "stream",
          "name": "stdout",
          "text": [
            "88.87331269698001\n"
          ]
        }
      ]
    },
    {
      "cell_type": "markdown",
      "source": [
        "Learning Outcomes\n",
        "* Calculate mean, median, and mode for given data.\n",
        "* Understand their significance in descriptive statistics.\n",
        "* Apply these measures to analyze real-world datasets.\n",
        "* Understand how linear regression captures relationships between variables.\n",
        "* Learn to interpret regression coefficients and their impact on predictions.\n",
        "* Apply linear regression to real-world datasets (e.g., predicting sales, house prices).\n",
        "* Interpret coefficients for each independent variable.\n",
        "* Apply multiple linear regression to complex datasets"
      ],
      "metadata": {
        "id": "S3zs77pOj8gz"
      }
    }
  ]
}